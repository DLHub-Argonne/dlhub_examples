{
 "cells": [
  {
   "cell_type": "code",
   "execution_count": 1,
   "metadata": {},
   "outputs": [],
   "source": [
    "from dlhub_sdk.models.servables.python import PythonStaticMethodModel, PythonClassMethodModel\n",
    "from dlhub_sdk.utils.schemas import validate_against_dlhub_schema\n",
    "from dlhub_sdk.utils.types import compose_argument_block\n",
    "from fair_research_login import NativeClient\n",
    "from home_run.version import __version__\n",
    "from unittest import TestCase\n",
    "from tempfile import mkstemp\n",
    "from platform import system\n",
    "import pickle as pkl\n",
    "import numpy as np\n",
    "import requests\n",
    "import json\n",
    "import sys\n",
    "import os\n",
    "\n",
    "from home_run.python import PythonStaticMethodServable, PythonClassMethodServable"
   ]
  },
  {
   "cell_type": "markdown",
   "metadata": {},
   "source": [
    "## Define a class to publish to DLHub"
   ]
  },
  {
   "cell_type": "code",
   "execution_count": 2,
   "metadata": {},
   "outputs": [
    {
     "name": "stdout",
     "output_type": "stream",
     "text": [
      "def get_file_length(input_data):\r\n",
      "    import os\r\n",
      "    len_val = None\r\n",
      "    print(input_data)\r\n",
      "\r\n",
      "    # Check if it is a file\r\n",
      "    try:\r\n",
      "        if os.path.isfile(str(input_data)):\r\n",
      "            len_val = os.path.getsize(str(input_data))\r\n",
      "    except:\r\n",
      "        pass\r\n",
      "\r\n",
      "    # Otherwise, get the length of it\r\n",
      "    if not len_val:\r\n",
      "        len_val = len(input_data)\r\n",
      "\r\n",
      "    return len_val\r\n"
     ]
    }
   ],
   "source": [
    "!cat file_length.py"
   ]
  },
  {
   "cell_type": "code",
   "execution_count": 3,
   "metadata": {},
   "outputs": [],
   "source": [
    "from file_length import get_file_length"
   ]
  },
  {
   "cell_type": "code",
   "execution_count": 4,
   "metadata": {},
   "outputs": [
    {
     "name": "stdout",
     "output_type": "stream",
     "text": [
      "Using-files.ipynb\n",
      "10403\n",
      "aaa\n",
      "3\n"
     ]
    }
   ],
   "source": [
    "print(get_file_length('Using-files.ipynb'))\n",
    "print(get_file_length('aaa'))"
   ]
  },
  {
   "cell_type": "markdown",
   "metadata": {},
   "source": [
    "## Save the class and create a servable from it\n",
    "\n",
    "Set the input type to 'file'"
   ]
  },
  {
   "cell_type": "code",
   "execution_count": 5,
   "metadata": {},
   "outputs": [],
   "source": [
    "# Make the metadata file\n",
    "model = PythonStaticMethodModel.create_model('file_length', 'get_file_length')\n",
    "model.set_title('File Length Function')\n",
    "model.set_name('FileLength')\n",
    "model.set_domains([\"general\",\"test\"])\n",
    "\n",
    "model.add_files('file_length.py')\n",
    "\n",
    "# Add provenance information\n",
    "model.set_authors([\"Chard, Ryan\"], [\"Argonne National Laboratory\"])\n",
    "model.set_abstract(\"A function to get the length of a file.\")\n",
    "\n",
    "# Set the input type to file\n",
    "model.set_inputs('file', 'A file')\n",
    "model.set_outputs('float', 'Output')\n",
    "\n",
    "# Make the servable\n",
    "servable = PythonStaticMethodServable(**model.to_dict())"
   ]
  },
  {
   "cell_type": "markdown",
   "metadata": {},
   "source": [
    "## Get an auth token to test it"
   ]
  },
  {
   "cell_type": "code",
   "execution_count": 6,
   "metadata": {},
   "outputs": [],
   "source": [
    "# Login and get a token for Petrel HTTPS\n",
    "client = NativeClient(client_id='7414f0b4-7d05-4bb6-bb00-076fa3f17cf5')\n",
    "tokens = client.login(requested_scopes=['https://auth.globus.org/scopes/56ceac29-e98a-440a-a594-b41e7a084b62/all'])\n",
    "auth_token = tokens[\"petrel_https_server\"]['access_token']\n",
    "headers = {'Authorization': f'Bearer {auth_token}'}"
   ]
  },
  {
   "cell_type": "markdown",
   "metadata": {},
   "source": [
    "Test that it works locally"
   ]
  },
  {
   "cell_type": "code",
   "execution_count": 7,
   "metadata": {},
   "outputs": [
    {
     "name": "stdout",
     "output_type": "stream",
     "text": [
      "/var/folders/sr/vtk5zxk17t5bxzf2hkdkp1k00000gn/T/tmp457p1lc8/45a53408-c797-11e6-9c33-22000a1e3b52.e.globus.org/ryan/README.txt\n"
     ]
    },
    {
     "data": {
      "text/plain": [
       "381"
      ]
     },
     "execution_count": 7,
     "metadata": {},
     "output_type": "execute_result"
    }
   ],
   "source": [
    "servable.run({'url': 'https://45a53408-c797-11e6-9c33-22000a1e3b52.e.globus.org/ryan/README.txt',\n",
    "              'headers': headers})"
   ]
  },
  {
   "cell_type": "markdown",
   "metadata": {},
   "source": [
    "## Publish the servable to DLHub"
   ]
  },
  {
   "cell_type": "code",
   "execution_count": 8,
   "metadata": {},
   "outputs": [],
   "source": [
    "import dlhub_sdk\n",
    "dl = dlhub_sdk.DLHubClient()"
   ]
  },
  {
   "cell_type": "code",
   "execution_count": 9,
   "metadata": {},
   "outputs": [
    {
     "data": {
      "text/plain": [
       "{'datacite': {'creators': [{'givenName': 'Ryan',\n",
       "    'familyName': 'Chard',\n",
       "    'affiliations': 'Argonne National Laboratory'}],\n",
       "  'titles': [{'title': 'File Length Function'}],\n",
       "  'publisher': 'DLHub',\n",
       "  'publicationYear': '2019',\n",
       "  'identifier': {'identifier': '10.YET/UNASSIGNED', 'identifierType': 'DOI'},\n",
       "  'descriptions': [{'description': 'A function to get the length of a file.',\n",
       "    'descriptionType': 'Abstract'}],\n",
       "  'fundingReferences': [],\n",
       "  'relatedIdentifiers': [],\n",
       "  'alternateIdentifiers': [],\n",
       "  'rightsList': [],\n",
       "  'resourceType': {'resourceTypeGeneral': 'InteractiveResource'}},\n",
       " 'dlhub': {'version': '0.8.0',\n",
       "  'domains': ['general', 'test'],\n",
       "  'visible_to': ['public'],\n",
       "  'name': 'FileLength',\n",
       "  'files': {'other': ['file_length.py']},\n",
       "  'type': 'servable'},\n",
       " 'servable': {'methods': {'run': {'input': {'type': 'file',\n",
       "     'description': 'A file'},\n",
       "    'output': {'type': 'float', 'description': 'Output'},\n",
       "    'parameters': {},\n",
       "    'method_details': {'method_name': 'get_file_length',\n",
       "     'module': 'file_length',\n",
       "     'autobatch': False}}},\n",
       "  'shim': 'python.PythonStaticMethodServable',\n",
       "  'type': 'Python static method'}}"
      ]
     },
     "execution_count": 9,
     "metadata": {},
     "output_type": "execute_result"
    }
   ],
   "source": [
    "model.to_dict()"
   ]
  },
  {
   "cell_type": "code",
   "execution_count": 10,
   "metadata": {},
   "outputs": [],
   "source": [
    "task_id = dl.publish_servable(model)"
   ]
  },
  {
   "cell_type": "code",
   "execution_count": 11,
   "metadata": {},
   "outputs": [
    {
     "data": {
      "text/plain": [
       "'bc0b0c57-e877-49ad-a697-6bf1d723aa9b'"
      ]
     },
     "execution_count": 11,
     "metadata": {},
     "output_type": "execute_result"
    }
   ],
   "source": [
    "task_id"
   ]
  },
  {
   "cell_type": "markdown",
   "metadata": {},
   "source": [
    "## Use the DLHub servable"
   ]
  },
  {
   "cell_type": "code",
   "execution_count": 12,
   "metadata": {},
   "outputs": [
    {
     "name": "stdout",
     "output_type": "stream",
     "text": [
      "[{'datacite': {'creators': [{'affiliations': 'Argonne National Laboratory', 'familyName': 'Chard', 'givenName': 'Ryan'}], 'descriptions': [{'description': 'A function to get the length of a file.', 'descriptionType': 'Abstract'}], 'identifier': {'identifier': '10.YET/UNASSIGNED', 'identifierType': 'DOI'}, 'publicationYear': '2019', 'publisher': 'DLHub', 'resourceType': {'resourceTypeGeneral': 'InteractiveResource'}, 'titles': [{'title': 'File Length Function'}]}, 'dlhub': {'build_location': '/mnt/dlhub_ingest/965df8fe-8ea4-4090-9542-ffa289d9ac2e-1560283549', 'domains': ['general', 'test'], 'ecr_arn': 'arn:aws:ecr:us-east-1:039706667969:repository/965df8fe-8ea4-4090-9542-ffa289d9ac2e', 'ecr_uri': '039706667969.dkr.ecr.us-east-1.amazonaws.com/965df8fe-8ea4-4090-9542-ffa289d9ac2e', 'files': {'other': ['file_length.py']}, 'id': '965df8fe-8ea4-4090-9542-ffa289d9ac2e', 'name': 'FileLength', 'owner': 'ryan_globusid', 'publication_date': '1560283549399', 'shorthand_name': 'ryan_globusid/FileLength', 'transfer_method': {'POST': 'file', 'path': '/mnt/tmp/servable.zip'}, 'type': 'servable', 'user_id': '1', 'version': '0.8.0', 'visible_to': ['public']}, 'servable': {'methods': {'run': {'input': {'description': 'A file', 'type': 'file'}, 'method_details': {'autobatch': False, 'method_name': 'get_file_length', 'module': 'file_length'}, 'output': {'description': 'Output', 'type': 'float'}}}, 'shim': 'python.PythonStaticMethodServable', 'type': 'Python static method'}}, {'datacite': {'creators': [{'affiliations': 'Argonne National Laboratory', 'familyName': 'Chard', 'givenName': 'Ryan'}], 'descriptions': [{'description': 'A function to get the length of a file.', 'descriptionType': 'Abstract'}], 'identifier': {'identifier': '10.YET/UNASSIGNED', 'identifierType': 'DOI'}, 'publicationYear': '2019', 'publisher': 'DLHub', 'resourceType': {'resourceTypeGeneral': 'InteractiveResource'}, 'titles': [{'title': 'File Length Function'}]}, 'dlhub': {'build_location': '/mnt/dlhub_ingest/a437c488-aa97-41fb-8f8c-41493195bb57-1561393342', 'domains': ['general', 'test'], 'ecr_arn': 'arn:aws:ecr:us-east-1:039706667969:repository/a437c488-aa97-41fb-8f8c-41493195bb57', 'ecr_uri': '039706667969.dkr.ecr.us-east-1.amazonaws.com/a437c488-aa97-41fb-8f8c-41493195bb57', 'files': {'other': ['file_length.py']}, 'id': 'a437c488-aa97-41fb-8f8c-41493195bb57', 'name': 'FileLength', 'owner': 'etruelove_uchicago', 'publication_date': '1561393341975', 'shorthand_name': 'etruelove_uchicago/FileLength', 'transfer_method': {'POST': 'file', 'path': '/mnt/tmp/servable.zip'}, 'type': 'servable', 'user_id': 'None', 'version': '0.8.0', 'visible_to': ['public']}, 'servable': {'methods': {'run': {'input': {'description': 'A file', 'type': 'file'}, 'method_details': {'autobatch': False, 'method_name': 'get_file_length', 'module': 'file_length'}, 'output': {'description': 'Output', 'type': 'float'}}}, 'shim': 'python.PythonStaticMethodServable', 'type': 'Python static method'}}]\n",
      "ryan_globusid/FileLength\n"
     ]
    }
   ],
   "source": [
    "df_serv = dl.search_by_servable(servable_name=\"filelength\")\n",
    "print(df_serv)\n",
    "servable_name = df_serv[0]['dlhub']['shorthand_name']\n",
    "print(servable_name)"
   ]
  },
  {
   "cell_type": "code",
   "execution_count": 13,
   "metadata": {},
   "outputs": [],
   "source": [
    "res = dl.run(servable_name, {'url': 'https://45a53408-c797-11e6-9c33-22000a1e3b52.e.globus.org/ryan/test-123.txt',\n",
    "              'headers': headers}, input_type='json')"
   ]
  },
  {
   "cell_type": "code",
   "execution_count": 14,
   "metadata": {},
   "outputs": [
    {
     "data": {
      "text/plain": [
       "[381]"
      ]
     },
     "execution_count": 14,
     "metadata": {},
     "output_type": "execute_result"
    }
   ],
   "source": [
    "res"
   ]
  },
  {
   "cell_type": "code",
   "execution_count": null,
   "metadata": {},
   "outputs": [],
   "source": []
  }
 ],
 "metadata": {
  "kernelspec": {
   "display_name": "Python 3",
   "language": "python",
   "name": "python3"
  },
  "language_info": {
   "codemirror_mode": {
    "name": "ipython",
    "version": 3
   },
   "file_extension": ".py",
   "mimetype": "text/x-python",
   "name": "python",
   "nbconvert_exporter": "python",
   "pygments_lexer": "ipython3",
   "version": "3.7.2"
  }
 },
 "nbformat": 4,
 "nbformat_minor": 2
}
