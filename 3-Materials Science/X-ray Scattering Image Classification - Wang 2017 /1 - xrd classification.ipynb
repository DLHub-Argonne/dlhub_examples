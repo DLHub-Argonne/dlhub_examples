{
 "cells": [
  {
   "cell_type": "code",
   "execution_count": 1,
   "metadata": {},
   "outputs": [],
   "source": [
    "import matplotlib\n",
    "import globus_sdk\n",
    "import numpy as np\n",
    "import pandas as pd\n",
    "import matplotlib.pyplot as plt\n",
    "from tqdm import tqdm_notebook as tqdm\n",
    "%matplotlib inline\n",
    "\n",
    "## MDF and DLHub imports\n",
    "from mdf_forge.forge import Forge\n",
    "import mdf_toolbox\n",
    "from dlhub_sdk.client import DLHubClient"
   ]
  },
  {
   "cell_type": "code",
   "execution_count": 2,
   "metadata": {},
   "outputs": [
    {
     "ename": "AuthAPIError",
     "evalue": "(400, 'Error', 'invalid_grant')",
     "output_type": "error",
     "traceback": [
      "\u001b[0;31m---------------------------------------------------------------------------\u001b[0m",
      "\u001b[0;31mAuthAPIError\u001b[0m                              Traceback (most recent call last)",
      "\u001b[0;32m<ipython-input-2-bac282038995>\u001b[0m in \u001b[0;36m<module>\u001b[0;34m\u001b[0m\n\u001b[0;32m----> 1\u001b[0;31m \u001b[0mmdf\u001b[0m \u001b[0;34m=\u001b[0m \u001b[0mForge\u001b[0m\u001b[0;34m(\u001b[0m\u001b[0;34m)\u001b[0m\u001b[0;34m\u001b[0m\u001b[0;34m\u001b[0m\u001b[0m\n\u001b[0m\u001b[1;32m      2\u001b[0m \u001b[0mdl\u001b[0m \u001b[0;34m=\u001b[0m \u001b[0mDLHubClient\u001b[0m\u001b[0;34m.\u001b[0m\u001b[0mlogin\u001b[0m\u001b[0;34m(\u001b[0m\u001b[0;34m)\u001b[0m\u001b[0;34m\u001b[0m\u001b[0;34m\u001b[0m\u001b[0m\n\u001b[1;32m      3\u001b[0m \u001b[0mcreds\u001b[0m \u001b[0;34m=\u001b[0m \u001b[0mmdf_toolbox\u001b[0m\u001b[0;34m.\u001b[0m\u001b[0mlogin\u001b[0m\u001b[0;34m(\u001b[0m\u001b[0mapp_name\u001b[0m\u001b[0;34m=\u001b[0m\u001b[0;34m\"DLHub\"\u001b[0m\u001b[0;34m,\u001b[0m \u001b[0mservices\u001b[0m\u001b[0;34m=\u001b[0m\u001b[0;34m[\u001b[0m\u001b[0;34m\"petrel\"\u001b[0m\u001b[0;34m,\u001b[0m \u001b[0;34m\"data_mdf\"\u001b[0m\u001b[0;34m,\u001b[0m \u001b[0;34m\"transfer\"\u001b[0m\u001b[0;34m]\u001b[0m\u001b[0;34m)\u001b[0m\u001b[0;34m\u001b[0m\u001b[0;34m\u001b[0m\u001b[0m\n",
      "\u001b[0;32m/anaconda3/envs/dlhub/lib/python3.6/site-packages/mdf_forge/forge.py\u001b[0m in \u001b[0;36m__init__\u001b[0;34m(self, index, local_ep, anonymous, clear_old_tokens, **kwargs)\u001b[0m\n\u001b[1;32m     82\u001b[0m                                             \u001b[0;34m\"app_name\"\u001b[0m\u001b[0;34m:\u001b[0m \u001b[0mself\u001b[0m\u001b[0;34m.\u001b[0m\u001b[0m__app_name\u001b[0m\u001b[0;34m,\u001b[0m\u001b[0;34m\u001b[0m\u001b[0;34m\u001b[0m\u001b[0m\n\u001b[1;32m     83\u001b[0m                                             \"services\": services},\n\u001b[0;32m---> 84\u001b[0;31m                                         clear_old_tokens=clear_old_tokens) if services else {})\n\u001b[0m\u001b[1;32m     85\u001b[0m         \u001b[0msearch_client\u001b[0m \u001b[0;34m=\u001b[0m \u001b[0mkwargs\u001b[0m\u001b[0;34m.\u001b[0m\u001b[0mpop\u001b[0m\u001b[0;34m(\u001b[0m\u001b[0;34m\"search_client\"\u001b[0m\u001b[0;34m,\u001b[0m \u001b[0mclients\u001b[0m\u001b[0;34m.\u001b[0m\u001b[0mget\u001b[0m\u001b[0;34m(\u001b[0m\u001b[0;34m\"search\"\u001b[0m\u001b[0;34m,\u001b[0m \u001b[0;32mNone\u001b[0m\u001b[0;34m)\u001b[0m\u001b[0;34m)\u001b[0m\u001b[0;34m\u001b[0m\u001b[0;34m\u001b[0m\u001b[0m\n\u001b[1;32m     86\u001b[0m         \u001b[0mself\u001b[0m\u001b[0;34m.\u001b[0m\u001b[0m__transfer_client\u001b[0m \u001b[0;34m=\u001b[0m \u001b[0mkwargs\u001b[0m\u001b[0;34m.\u001b[0m\u001b[0mget\u001b[0m\u001b[0;34m(\u001b[0m\u001b[0;34m\"transfer_client\"\u001b[0m\u001b[0;34m,\u001b[0m \u001b[0mclients\u001b[0m\u001b[0;34m.\u001b[0m\u001b[0mget\u001b[0m\u001b[0;34m(\u001b[0m\u001b[0;34m\"transfer\"\u001b[0m\u001b[0;34m,\u001b[0m \u001b[0;32mNone\u001b[0m\u001b[0;34m)\u001b[0m\u001b[0;34m)\u001b[0m\u001b[0;34m\u001b[0m\u001b[0;34m\u001b[0m\u001b[0m\n",
      "\u001b[0;32m/anaconda3/envs/dlhub/lib/python3.6/site-packages/mdf_toolbox/toolbox.py\u001b[0m in \u001b[0;36mlogin\u001b[0;34m(credentials, app_name, services, client_id, make_clients, clear_old_tokens, token_dir, **kwargs)\u001b[0m\n\u001b[1;32m    226\u001b[0m         \u001b[0;32mtry\u001b[0m\u001b[0;34m:\u001b[0m\u001b[0;34m\u001b[0m\u001b[0;34m\u001b[0m\u001b[0m\n\u001b[1;32m    227\u001b[0m             all_authorizers[key] = globus_sdk.RefreshTokenAuthorizer(tokens[\"refresh_token\"],\n\u001b[0;32m--> 228\u001b[0;31m                                                                      native_client)\n\u001b[0m\u001b[1;32m    229\u001b[0m         \u001b[0;32mexcept\u001b[0m \u001b[0mKeyError\u001b[0m\u001b[0;34m:\u001b[0m\u001b[0;34m\u001b[0m\u001b[0;34m\u001b[0m\u001b[0m\n\u001b[1;32m    230\u001b[0m             print(\"Error: Unable to retrieve tokens for '{}'.\\n\"\n",
      "\u001b[0;32m/anaconda3/envs/dlhub/lib/python3.6/site-packages/globus_sdk/authorizers/refresh_token.py\u001b[0m in \u001b[0;36m__init__\u001b[0;34m(self, refresh_token, auth_client, access_token, expires_at, on_refresh)\u001b[0m\n\u001b[1;32m     75\u001b[0m \u001b[0;34m\u001b[0m\u001b[0m\n\u001b[1;32m     76\u001b[0m         super(RefreshTokenAuthorizer, self).__init__(\n\u001b[0;32m---> 77\u001b[0;31m             \u001b[0maccess_token\u001b[0m\u001b[0;34m,\u001b[0m \u001b[0mexpires_at\u001b[0m\u001b[0;34m,\u001b[0m \u001b[0mon_refresh\u001b[0m\u001b[0;34m\u001b[0m\u001b[0;34m\u001b[0m\u001b[0m\n\u001b[0m\u001b[1;32m     78\u001b[0m         )\n\u001b[1;32m     79\u001b[0m \u001b[0;34m\u001b[0m\u001b[0m\n",
      "\u001b[0;32m/anaconda3/envs/dlhub/lib/python3.6/site-packages/globus_sdk/authorizers/renewing.py\u001b[0m in \u001b[0;36m__init__\u001b[0;34m(self, access_token, expires_at, on_refresh)\u001b[0m\n\u001b[1;32m     95\u001b[0m                 \u001b[0;34m\"Token. Fetching initial token now.\"\u001b[0m\u001b[0;34m\u001b[0m\u001b[0;34m\u001b[0m\u001b[0m\n\u001b[1;32m     96\u001b[0m             )\n\u001b[0;32m---> 97\u001b[0;31m             \u001b[0mself\u001b[0m\u001b[0;34m.\u001b[0m\u001b[0m_get_new_access_token\u001b[0m\u001b[0;34m(\u001b[0m\u001b[0;34m)\u001b[0m\u001b[0;34m\u001b[0m\u001b[0;34m\u001b[0m\u001b[0m\n\u001b[0m\u001b[1;32m     98\u001b[0m \u001b[0;34m\u001b[0m\u001b[0m\n\u001b[1;32m     99\u001b[0m     \u001b[0;34m@\u001b[0m\u001b[0mabc\u001b[0m\u001b[0;34m.\u001b[0m\u001b[0mabstractmethod\u001b[0m\u001b[0;34m\u001b[0m\u001b[0;34m\u001b[0m\u001b[0m\n",
      "\u001b[0;32m/anaconda3/envs/dlhub/lib/python3.6/site-packages/globus_sdk/authorizers/renewing.py\u001b[0m in \u001b[0;36m_get_new_access_token\u001b[0;34m(self)\u001b[0m\n\u001b[1;32m    132\u001b[0m         \"\"\"\n\u001b[1;32m    133\u001b[0m         \u001b[0;31m# get the first (and only) token\u001b[0m\u001b[0;34m\u001b[0m\u001b[0;34m\u001b[0m\u001b[0;34m\u001b[0m\u001b[0m\n\u001b[0;32m--> 134\u001b[0;31m         \u001b[0mres\u001b[0m \u001b[0;34m=\u001b[0m \u001b[0mself\u001b[0m\u001b[0;34m.\u001b[0m\u001b[0m_get_token_response\u001b[0m\u001b[0;34m(\u001b[0m\u001b[0;34m)\u001b[0m\u001b[0;34m\u001b[0m\u001b[0;34m\u001b[0m\u001b[0m\n\u001b[0m\u001b[1;32m    135\u001b[0m         \u001b[0mtoken_data\u001b[0m \u001b[0;34m=\u001b[0m \u001b[0mself\u001b[0m\u001b[0;34m.\u001b[0m\u001b[0m_extract_token_data\u001b[0m\u001b[0;34m(\u001b[0m\u001b[0mres\u001b[0m\u001b[0;34m)\u001b[0m\u001b[0;34m\u001b[0m\u001b[0;34m\u001b[0m\u001b[0m\n\u001b[1;32m    136\u001b[0m \u001b[0;34m\u001b[0m\u001b[0m\n",
      "\u001b[0;32m/anaconda3/envs/dlhub/lib/python3.6/site-packages/globus_sdk/authorizers/refresh_token.py\u001b[0m in \u001b[0;36m_get_token_response\u001b[0;34m(self)\u001b[0m\n\u001b[1;32m     82\u001b[0m         \u001b[0mMake\u001b[0m \u001b[0ma\u001b[0m \u001b[0mrefresh\u001b[0m \u001b[0mtoken\u001b[0m \u001b[0mgrant\u001b[0m\u001b[0;34m\u001b[0m\u001b[0;34m\u001b[0m\u001b[0m\n\u001b[1;32m     83\u001b[0m         \"\"\"\n\u001b[0;32m---> 84\u001b[0;31m         \u001b[0;32mreturn\u001b[0m \u001b[0mself\u001b[0m\u001b[0;34m.\u001b[0m\u001b[0mauth_client\u001b[0m\u001b[0;34m.\u001b[0m\u001b[0moauth2_refresh_token\u001b[0m\u001b[0;34m(\u001b[0m\u001b[0mself\u001b[0m\u001b[0;34m.\u001b[0m\u001b[0mrefresh_token\u001b[0m\u001b[0;34m)\u001b[0m\u001b[0;34m\u001b[0m\u001b[0;34m\u001b[0m\u001b[0m\n\u001b[0m\u001b[1;32m     85\u001b[0m \u001b[0;34m\u001b[0m\u001b[0m\n\u001b[1;32m     86\u001b[0m     \u001b[0;32mdef\u001b[0m \u001b[0m_extract_token_data\u001b[0m\u001b[0;34m(\u001b[0m\u001b[0mself\u001b[0m\u001b[0;34m,\u001b[0m \u001b[0mres\u001b[0m\u001b[0;34m)\u001b[0m\u001b[0;34m:\u001b[0m\u001b[0;34m\u001b[0m\u001b[0;34m\u001b[0m\u001b[0m\n",
      "\u001b[0;32m/anaconda3/envs/dlhub/lib/python3.6/site-packages/globus_sdk/auth/client_types/native_client.py\u001b[0m in \u001b[0;36moauth2_refresh_token\u001b[0;34m(self, refresh_token)\u001b[0m\n\u001b[1;32m    134\u001b[0m         }\n\u001b[1;32m    135\u001b[0m \u001b[0;34m\u001b[0m\u001b[0m\n\u001b[0;32m--> 136\u001b[0;31m         \u001b[0;32mreturn\u001b[0m \u001b[0mself\u001b[0m\u001b[0;34m.\u001b[0m\u001b[0moauth2_token\u001b[0m\u001b[0;34m(\u001b[0m\u001b[0mform_data\u001b[0m\u001b[0;34m)\u001b[0m\u001b[0;34m\u001b[0m\u001b[0;34m\u001b[0m\u001b[0m\n\u001b[0m",
      "\u001b[0;32m/anaconda3/envs/dlhub/lib/python3.6/site-packages/globus_sdk/auth/client_types/base.py\u001b[0m in \u001b[0;36moauth2_token\u001b[0;34m(self, form_data, response_class)\u001b[0m\n\u001b[1;32m    398\u001b[0m         \u001b[0;31m# a form POST\u001b[0m\u001b[0;34m\u001b[0m\u001b[0;34m\u001b[0m\u001b[0;34m\u001b[0m\u001b[0m\n\u001b[1;32m    399\u001b[0m         return self.post(\n\u001b[0;32m--> 400\u001b[0;31m             \u001b[0;34m\"/v2/oauth2/token\"\u001b[0m\u001b[0;34m,\u001b[0m \u001b[0mresponse_class\u001b[0m\u001b[0;34m=\u001b[0m\u001b[0mresponse_class\u001b[0m\u001b[0;34m,\u001b[0m \u001b[0mtext_body\u001b[0m\u001b[0;34m=\u001b[0m\u001b[0mform_data\u001b[0m\u001b[0;34m\u001b[0m\u001b[0;34m\u001b[0m\u001b[0m\n\u001b[0m\u001b[1;32m    401\u001b[0m         )\n\u001b[1;32m    402\u001b[0m \u001b[0;34m\u001b[0m\u001b[0m\n",
      "\u001b[0;32m/anaconda3/envs/dlhub/lib/python3.6/site-packages/globus_sdk/base.py\u001b[0m in \u001b[0;36mpost\u001b[0;34m(self, path, json_body, params, headers, text_body, response_class, retry_401)\u001b[0m\n\u001b[1;32m    286\u001b[0m             \u001b[0mtext_body\u001b[0m\u001b[0;34m=\u001b[0m\u001b[0mtext_body\u001b[0m\u001b[0;34m,\u001b[0m\u001b[0;34m\u001b[0m\u001b[0;34m\u001b[0m\u001b[0m\n\u001b[1;32m    287\u001b[0m             \u001b[0mresponse_class\u001b[0m\u001b[0;34m=\u001b[0m\u001b[0mresponse_class\u001b[0m\u001b[0;34m,\u001b[0m\u001b[0;34m\u001b[0m\u001b[0;34m\u001b[0m\u001b[0m\n\u001b[0;32m--> 288\u001b[0;31m             \u001b[0mretry_401\u001b[0m\u001b[0;34m=\u001b[0m\u001b[0mretry_401\u001b[0m\u001b[0;34m,\u001b[0m\u001b[0;34m\u001b[0m\u001b[0;34m\u001b[0m\u001b[0m\n\u001b[0m\u001b[1;32m    289\u001b[0m         )\n\u001b[1;32m    290\u001b[0m \u001b[0;34m\u001b[0m\u001b[0m\n",
      "\u001b[0;32m/anaconda3/envs/dlhub/lib/python3.6/site-packages/globus_sdk/base.py\u001b[0m in \u001b[0;36m_request\u001b[0;34m(self, method, path, params, headers, json_body, text_body, response_class, retry_401)\u001b[0m\n\u001b[1;32m    551\u001b[0m             \u001b[0;34m\"request completed with (error) response code: {}\"\u001b[0m\u001b[0;34m.\u001b[0m\u001b[0mformat\u001b[0m\u001b[0;34m(\u001b[0m\u001b[0mr\u001b[0m\u001b[0;34m.\u001b[0m\u001b[0mstatus_code\u001b[0m\u001b[0;34m)\u001b[0m\u001b[0;34m\u001b[0m\u001b[0;34m\u001b[0m\u001b[0m\n\u001b[1;32m    552\u001b[0m         )\n\u001b[0;32m--> 553\u001b[0;31m         \u001b[0;32mraise\u001b[0m \u001b[0mself\u001b[0m\u001b[0;34m.\u001b[0m\u001b[0merror_class\u001b[0m\u001b[0;34m(\u001b[0m\u001b[0mr\u001b[0m\u001b[0;34m)\u001b[0m\u001b[0;34m\u001b[0m\u001b[0;34m\u001b[0m\u001b[0m\n\u001b[0m\u001b[1;32m    554\u001b[0m \u001b[0;34m\u001b[0m\u001b[0m\n\u001b[1;32m    555\u001b[0m \u001b[0;34m\u001b[0m\u001b[0m\n",
      "\u001b[0;31mAuthAPIError\u001b[0m: (400, 'Error', 'invalid_grant')"
     ]
    }
   ],
   "source": [
    "mdf = Forge()\n",
    "dl = DLHubClient.login()\n",
    "creds = mdf_toolbox.login(app_name=\"DLHub\", services=[\"petrel\", \"data_mdf\", \"transfer\"])"
   ]
  },
  {
   "cell_type": "markdown",
   "metadata": {},
   "source": [
    "---\n",
    "A classification model for x-ray diffraction images\n",
    "\n",
    "Here we use a deep learning model developed by [Kevin Yager and colleagues](https://doi.org/10.1109/NYSDS.2017.8085045) at Brookhaven National Laboratory that uses residual deep learning networks to assign useful tags to small angle scattering (SAXS) images. Such a model might be used from a light source beamline, for example, to validate data as they are collected.\n",
    "\n",
    "The servable is set up to retrieve a specified image from Petrel, a multi-petabyte data store at Argonne used to hold data from Advanced Photon Source experiments, and then pass the image through the Yager model.\n",
    "\n",
    "![resnet](img/resnet_1.png)"
   ]
  },
  {
   "cell_type": "markdown",
   "metadata": {},
   "source": [
    "## Get a list of data from Petrel\n",
    "\n",
    "Use the Globus Transfer token to list the contents of a directory on Petrel. "
   ]
  },
  {
   "cell_type": "code",
   "execution_count": 3,
   "metadata": {},
   "outputs": [],
   "source": [
    "target_endpoint = \"e38ee745-6d04-11e5-ba46-22000b92c6ec\"\n",
    "target_path = \"Yager/model/raw/01470b9d_varied_sm/\"\n",
    "\n",
    "ls_result = creds['transfer'].operation_ls(target_endpoint, path=target_path)\n",
    "bnl_inputs = []\n",
    "for file_meta in ls_result:\n",
    "    if file_meta['type'] == \"file\":\n",
    "        bnl_inputs.append(\"https://{}.e.globus.org/{}{}\".format(target_endpoint, target_path, file_meta['name']))"
   ]
  },
  {
   "cell_type": "markdown",
   "metadata": {},
   "source": [
    "## Generate a list of images to pass to the model for labeling\n",
    "Here is an example image:\n",
    "\n",
    "![example image](img/0000002f.jpg)"
   ]
  },
  {
   "cell_type": "code",
   "execution_count": 4,
   "metadata": {},
   "outputs": [
    {
     "name": "stdout",
     "output_type": "stream",
     "text": [
      "https://e38ee745-6d04-11e5-ba46-22000b92c6ec.e.globus.org/Yager/model/raw/01470b9d_varied_sm/00000000.mat\n",
      "https://e38ee745-6d04-11e5-ba46-22000b92c6ec.e.globus.org/Yager/model/raw/01470b9d_varied_sm/00000001.mat\n"
     ]
    },
    {
     "data": {
      "text/html": [
       "<div>\n",
       "<style scoped>\n",
       "    .dataframe tbody tr th:only-of-type {\n",
       "        vertical-align: middle;\n",
       "    }\n",
       "\n",
       "    .dataframe tbody tr th {\n",
       "        vertical-align: top;\n",
       "    }\n",
       "\n",
       "    .dataframe thead th {\n",
       "        text-align: right;\n",
       "    }\n",
       "</style>\n",
       "<table border=\"1\" class=\"dataframe\">\n",
       "  <thead>\n",
       "    <tr style=\"text-align: right;\">\n",
       "      <th></th>\n",
       "      <th>file</th>\n",
       "      <th>token</th>\n",
       "    </tr>\n",
       "  </thead>\n",
       "  <tbody>\n",
       "    <tr>\n",
       "      <th>0</th>\n",
       "      <td>https://e38ee745-6d04-11e5-ba46-22000b92c6ec.e...</td>\n",
       "      <td>AgeEazjywy3zXD50DKNamwE47MWmnKJ3zM6egKxWlE6OMy...</td>\n",
       "    </tr>\n",
       "    <tr>\n",
       "      <th>1</th>\n",
       "      <td>https://e38ee745-6d04-11e5-ba46-22000b92c6ec.e...</td>\n",
       "      <td>AgeEazjywy3zXD50DKNamwE47MWmnKJ3zM6egKxWlE6OMy...</td>\n",
       "    </tr>\n",
       "  </tbody>\n",
       "</table>\n",
       "</div>"
      ],
      "text/plain": [
       "                                                file  \\\n",
       "0  https://e38ee745-6d04-11e5-ba46-22000b92c6ec.e...   \n",
       "1  https://e38ee745-6d04-11e5-ba46-22000b92c6ec.e...   \n",
       "\n",
       "                                               token  \n",
       "0  AgeEazjywy3zXD50DKNamwE47MWmnKJ3zM6egKxWlE6OMy...  \n",
       "1  AgeEazjywy3zXD50DKNamwE47MWmnKJ3zM6egKxWlE6OMy...  "
      ]
     },
     "execution_count": 4,
     "metadata": {},
     "output_type": "execute_result"
    }
   ],
   "source": [
    "data = []\n",
    "for filename in bnl_inputs[0:2]:\n",
    "    print(filename)\n",
    "    data.append({\"file\": filename, \"token\": creds['petrel'].access_token})\n",
    "df_bnl = pd.DataFrame(data)\n",
    "df_bnl.head()"
   ]
  },
  {
   "cell_type": "markdown",
   "metadata": {},
   "source": [
    "## Invoke the Yager model on one of these images\n",
    "\n",
    "(This can be a bit slow if the result isn't cached. We are working to optimize.)"
   ]
  },
  {
   "cell_type": "code",
   "execution_count": 5,
   "metadata": {},
   "outputs": [
    {
     "ename": "AttributeError",
     "evalue": "'DLHubClient' object has no attribute 'get_id_by_name'",
     "output_type": "error",
     "traceback": [
      "\u001b[0;31m---------------------------------------------------------------------------\u001b[0m",
      "\u001b[0;31mAttributeError\u001b[0m                            Traceback (most recent call last)",
      "\u001b[0;32m<ipython-input-5-1c46dab55735>\u001b[0m in \u001b[0;36m<module>\u001b[0;34m\u001b[0m\n\u001b[1;32m      1\u001b[0m \u001b[0mservable_name\u001b[0m \u001b[0;34m=\u001b[0m \u001b[0;34m\"yager_xrd_classifier\"\u001b[0m\u001b[0;34m\u001b[0m\u001b[0;34m\u001b[0m\u001b[0m\n\u001b[0;32m----> 2\u001b[0;31m \u001b[0mservable_id\u001b[0m \u001b[0;34m=\u001b[0m \u001b[0mdl\u001b[0m\u001b[0;34m.\u001b[0m\u001b[0mget_id_by_name\u001b[0m\u001b[0;34m(\u001b[0m\u001b[0mservable_name\u001b[0m\u001b[0;34m)\u001b[0m\u001b[0;34m\u001b[0m\u001b[0;34m\u001b[0m\u001b[0m\n\u001b[0m\u001b[1;32m      3\u001b[0m \u001b[0;34m\u001b[0m\u001b[0m\n\u001b[1;32m      4\u001b[0m \u001b[0mpreds\u001b[0m\u001b[0;34m=\u001b[0m\u001b[0;34m[\u001b[0m\u001b[0;34m]\u001b[0m\u001b[0;34m\u001b[0m\u001b[0;34m\u001b[0m\u001b[0m\n\u001b[1;32m      5\u001b[0m \u001b[0;34m\u001b[0m\u001b[0m\n",
      "\u001b[0;31mAttributeError\u001b[0m: 'DLHubClient' object has no attribute 'get_id_by_name'"
     ]
    }
   ],
   "source": [
    "author = ''\n",
    "servable_name = \"yager_xrd_classifier\"\n",
    "#servable_id = dl.get_id_by_name(servable_name)\n",
    "\n",
    "preds=[]\n",
    "\n",
    "for d in tqdm(data, total=len(data)):\n",
    "    res = dl.run(name = author+servable_name, {\"data\":[d]})\n",
    "    preds.append(res[0][0])\n",
    "df_bnl['prediction'] = preds\n",
    "df_bnl.head()"
   ]
  },
  {
   "cell_type": "markdown",
   "metadata": {},
   "source": [
    "## Translate predictions into tags\n",
    "To make these predictions useful to humans..."
   ]
  },
  {
   "cell_type": "code",
   "execution_count": null,
   "metadata": {},
   "outputs": [],
   "source": [
    "df_tags = pd.read_csv('./tags.txt',  '\\n', header=None) ## Eventually this will be read in from the model metadata in Search\n",
    "\n",
    "def get_tags(entry):\n",
    "    df_tmp = pd.DataFrame()\n",
    "    df_tmp['probability'] = entry['prediction']\n",
    "    df_tmp['tags'] = df_tags[0]\n",
    "    return df_tmp\n",
    "\n",
    "df_p = get_tags(df_bnl.iloc[0])\n",
    "df_p.sort_values([\"probability\"], ascending=False).head(10)"
   ]
  },
  {
   "cell_type": "markdown",
   "metadata": {},
   "source": [
    "The machine learning model predicts a 99.9% certainity that the beam is off image. We plan to incorporate this kind of model into the beamline facilities at ANL so that scientists (or robots!) at the beamline can quickly identify when their experiments are producing useless data."
   ]
  }
 ],
 "metadata": {
  "kernelspec": {
   "display_name": "Python 3",
   "language": "python",
   "name": "python3"
  },
  "language_info": {
   "codemirror_mode": {
    "name": "ipython",
    "version": 3
   },
   "file_extension": ".py",
   "mimetype": "text/x-python",
   "name": "python",
   "nbconvert_exporter": "python",
   "pygments_lexer": "ipython3",
   "version": "3.6.7"
  }
 },
 "nbformat": 4,
 "nbformat_minor": 2
}
