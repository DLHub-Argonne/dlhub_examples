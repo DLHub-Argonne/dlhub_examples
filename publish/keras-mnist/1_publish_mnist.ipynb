{
 "cells": [
  {
   "cell_type": "code",
   "execution_count": 8,
   "metadata": {},
   "outputs": [],
   "source": [
    "from dlhub_sdk.models.servables.keras import KerasModel\n",
    "from dlhub_sdk import DLHubClient\n",
    "import pickle as pkl\n",
    "import json"
   ]
  },
  {
   "cell_type": "markdown",
   "metadata": {},
   "source": [
    "# Train a Simple Keras Example on MNIST"
   ]
  },
  {
   "cell_type": "code",
   "execution_count": 4,
   "metadata": {},
   "outputs": [
    {
     "name": "stdout",
     "output_type": "stream",
     "text": [
      "x_train shape: (60000, 28, 28, 1)\n",
      "60000 train samples\n",
      "10000 test samples\n",
      "Train on 512 samples, validate on 10000 samples\n",
      "Epoch 1/12\n",
      "512/512 [==============================] - 2s 5ms/step - loss: 2.1108 - acc: 0.2812 - val_loss: 1.6300 - val_acc: 0.6573\n",
      "Epoch 2/12\n",
      "512/512 [==============================] - 2s 4ms/step - loss: 1.8010 - acc: 0.4590 - val_loss: 1.2421 - val_acc: 0.6713\n",
      "Epoch 3/12\n",
      "512/512 [==============================] - 2s 4ms/step - loss: 1.1886 - acc: 0.6309 - val_loss: 1.2574 - val_acc: 0.5668\n",
      "Epoch 4/12\n",
      "512/512 [==============================] - 2s 4ms/step - loss: 0.9311 - acc: 0.7188 - val_loss: 0.8100 - val_acc: 0.7381\n",
      "Epoch 5/12\n",
      "512/512 [==============================] - 2s 4ms/step - loss: 0.6493 - acc: 0.7910 - val_loss: 0.9804 - val_acc: 0.6577\n",
      "Epoch 6/12\n",
      "512/512 [==============================] - 2s 4ms/step - loss: 0.6824 - acc: 0.7852 - val_loss: 0.7639 - val_acc: 0.7782\n",
      "Epoch 7/12\n",
      "512/512 [==============================] - 2s 4ms/step - loss: 0.5329 - acc: 0.8574 - val_loss: 0.5201 - val_acc: 0.8338\n",
      "Epoch 8/12\n",
      "512/512 [==============================] - 2s 4ms/step - loss: 0.4449 - acc: 0.8516 - val_loss: 0.4831 - val_acc: 0.8489\n",
      "Epoch 9/12\n",
      "512/512 [==============================] - 2s 4ms/step - loss: 0.3857 - acc: 0.8926 - val_loss: 0.5019 - val_acc: 0.8372\n",
      "Epoch 10/12\n",
      "512/512 [==============================] - 2s 4ms/step - loss: 0.3815 - acc: 0.8867 - val_loss: 0.4750 - val_acc: 0.8515\n",
      "Epoch 11/12\n",
      "512/512 [==============================] - 2s 4ms/step - loss: 0.2924 - acc: 0.9199 - val_loss: 0.4604 - val_acc: 0.8554\n",
      "Epoch 12/12\n",
      "512/512 [==============================] - 2s 5ms/step - loss: 0.2871 - acc: 0.9121 - val_loss: 0.4399 - val_acc: 0.8668\n",
      "Test loss: 0.4398818016827106\n",
      "Test accuracy: 0.8668\n"
     ]
    }
   ],
   "source": [
    "## Copied from Keras examples\n",
    "\"\"\"Trains a simple convnet on the MNIST dataset.\n",
    "Gets to 99.25% test accuracy after 12 epochs\n",
    "(there is still a lot of margin for parameter tuning).\n",
    "16 seconds per epoch on a GRID K520 GPU.\n",
    "\n",
    "Taken from: https://github.com/keras-team/keras/blob/master/examples/mnist_cnn.py\n",
    "\n",
    "Modified to:\n",
    "    - Use only 1024 examples for faster training\n",
    "    - Save model to hd5 at the end\n",
    "\"\"\"\n",
    "\n",
    "from __future__ import print_function\n",
    "import keras\n",
    "from keras.datasets import mnist\n",
    "from keras.models import Sequential\n",
    "from keras.layers import Dense, Dropout, Flatten\n",
    "from keras.layers import Conv2D, MaxPooling2D\n",
    "from keras import backend as K\n",
    "\n",
    "batch_size = 128\n",
    "num_classes = 10\n",
    "epochs = 12\n",
    "train_size = 512\n",
    "\n",
    "# input image dimensions\n",
    "img_rows, img_cols = 28, 28\n",
    "\n",
    "# the data, split between train and test sets\n",
    "(x_train, y_train), (x_test, y_test) = mnist.load_data()\n",
    "\n",
    "if K.image_data_format() == 'channels_first':\n",
    "    x_train = x_train.reshape(x_train.shape[0], 1, img_rows, img_cols)\n",
    "    x_test = x_test.reshape(x_test.shape[0], 1, img_rows, img_cols)\n",
    "    input_shape = (1, img_rows, img_cols)\n",
    "else:\n",
    "    x_train = x_train.reshape(x_train.shape[0], img_rows, img_cols, 1)\n",
    "    x_test = x_test.reshape(x_test.shape[0], img_rows, img_cols, 1)\n",
    "    input_shape = (img_rows, img_cols, 1)\n",
    "\n",
    "x_train = x_train.astype('float32')\n",
    "x_test = x_test.astype('float32')\n",
    "x_train /= 255\n",
    "x_test /= 255\n",
    "print('x_train shape:', x_train.shape)\n",
    "print(x_train.shape[0], 'train samples')\n",
    "print(x_test.shape[0], 'test samples')\n",
    "\n",
    "# convert class vectors to binary class matrices\n",
    "y_train = keras.utils.to_categorical(y_train, num_classes)\n",
    "y_test = keras.utils.to_categorical(y_test, num_classes)\n",
    "\n",
    "model = Sequential()\n",
    "model.add(Conv2D(32, kernel_size=(3, 3),\n",
    "                 activation='relu',\n",
    "                 input_shape=input_shape))\n",
    "model.add(Conv2D(64, (3, 3), activation='relu'))\n",
    "model.add(MaxPooling2D(pool_size=(2, 2)))\n",
    "model.add(Dropout(0.25))\n",
    "model.add(Flatten())\n",
    "model.add(Dense(128, activation='relu'))\n",
    "model.add(Dropout(0.5))\n",
    "model.add(Dense(num_classes, activation='softmax'))\n",
    "\n",
    "model.compile(loss=keras.losses.categorical_crossentropy,\n",
    "              optimizer=keras.optimizers.Adadelta(),\n",
    "              metrics=['accuracy'])\n",
    "\n",
    "model.fit(x_train[:train_size], y_train[:train_size],\n",
    "          batch_size=batch_size,\n",
    "          epochs=epochs,\n",
    "          verbose=1,\n",
    "          validation_data=(x_test, y_test))\n",
    "score = model.evaluate(x_test, y_test, verbose=0)\n",
    "print('Test loss:', score[0])\n",
    "print('Test accuracy:', score[1])\n",
    "\n",
    "# Save the model\n",
    "model.save(\"model.hd5\")\n"
   ]
  },
  {
   "cell_type": "markdown",
   "metadata": {},
   "source": [
    "# Describe the Model"
   ]
  },
  {
   "cell_type": "code",
   "execution_count": 5,
   "metadata": {},
   "outputs": [
    {
     "name": "stdout",
     "output_type": "stream",
     "text": [
      "\n",
      "--> Model Information <--\n",
      "{\n",
      "  \"datacite\": {\n",
      "    \"creators\": [],\n",
      "    \"titles\": [\n",
      "      {\n",
      "        \"title\": \"MNIST Digit Classifier\"\n",
      "      }\n",
      "    ],\n",
      "    \"publisher\": \"DLHub\",\n",
      "    \"publicationYear\": \"2019\",\n",
      "    \"identifier\": {\n",
      "      \"identifier\": \"10.YET/UNASSIGNED\",\n",
      "      \"identifierType\": \"DOI\"\n",
      "    },\n",
      "    \"descriptions\": [],\n",
      "    \"fundingReferences\": [],\n",
      "    \"relatedIdentifiers\": [],\n",
      "    \"alternateIdentifiers\": [],\n",
      "    \"rightsList\": [],\n",
      "    \"resourceType\": {\n",
      "      \"resourceTypeGeneral\": \"InteractiveResource\"\n",
      "    }\n",
      "  },\n",
      "  \"dlhub\": {\n",
      "    \"version\": \"0.8.2\",\n",
      "    \"domains\": [\n",
      "      \"general\",\n",
      "      \"digit recognition\"\n",
      "    ],\n",
      "    \"visible_to\": [\n",
      "      \"public\"\n",
      "    ],\n",
      "    \"name\": \"mnist_tiny_example\",\n",
      "    \"files\": {\n",
      "      \"model\": \"model.hd5\"\n",
      "    },\n",
      "    \"type\": \"servable\",\n",
      "    \"dependencies\": {\n",
      "      \"python\": {\n",
      "        \"keras\": \"2.2.4\",\n",
      "        \"h5py\": \"2.8.0\",\n",
      "        \"tensorflow\": \"1.14.0\"\n",
      "      }\n",
      "    }\n",
      "  },\n",
      "  \"servable\": {\n",
      "    \"methods\": {\n",
      "      \"run\": {\n",
      "        \"input\": {\n",
      "          \"type\": \"ndarray\",\n",
      "          \"description\": \"Image of a digit\",\n",
      "          \"shape\": [\n",
      "            null,\n",
      "            28,\n",
      "            28,\n",
      "            1\n",
      "          ]\n",
      "        },\n",
      "        \"output\": {\n",
      "          \"type\": \"ndarray\",\n",
      "          \"description\": \"Probabilities of being 0-9\",\n",
      "          \"shape\": [\n",
      "            null,\n",
      "            10\n",
      "          ]\n",
      "        },\n",
      "        \"parameters\": {},\n",
      "        \"method_details\": {\n",
      "          \"method_name\": \"predict\",\n",
      "          \"classes\": [\n",
      "            \"0\",\n",
      "            \"1\",\n",
      "            \"2\",\n",
      "            \"3\",\n",
      "            \"4\",\n",
      "            \"5\",\n",
      "            \"6\",\n",
      "            \"7\",\n",
      "            \"8\",\n",
      "            \"9\"\n",
      "          ]\n",
      "        }\n",
      "      }\n",
      "    },\n",
      "    \"shim\": \"keras.KerasServable\",\n",
      "    \"type\": \"Keras Model\",\n",
      "    \"model_summary\": \"_________________________________________________________________\\nLayer (type)                 Output Shape              Param #   \\n=================================================================\\nconv2d_7 (Conv2D)            (None, 26, 26, 32)        320       \\n_________________________________________________________________\\nconv2d_8 (Conv2D)            (None, 24, 24, 64)        18496     \\n_________________________________________________________________\\nmax_pooling2d_4 (MaxPooling2 (None, 12, 12, 64)        0         \\n_________________________________________________________________\\ndropout_7 (Dropout)          (None, 12, 12, 64)        0         \\n_________________________________________________________________\\nflatten_4 (Flatten)          (None, 9216)              0         \\n_________________________________________________________________\\ndense_7 (Dense)              (None, 128)               1179776   \\n_________________________________________________________________\\ndropout_8 (Dropout)          (None, 128)               0         \\n_________________________________________________________________\\ndense_8 (Dense)              (None, 10)                1290      \\n=================================================================\\nTotal params: 1,199,882\\nTrainable params: 1,199,882\\nNon-trainable params: 0\\n_________________________________________________________________\\n\",\n",
      "    \"model_type\": \"Deep NN\"\n",
      "  }\n",
      "}\n"
     ]
    }
   ],
   "source": [
    "# Describe the keras model\n",
    "model_info = KerasModel.create_model('model.hd5', list(map(str, range(10))))\n",
    "\n",
    "#    Describe the model\n",
    "model_info.set_title(\"MNIST Digit Classifier\")\n",
    "model_info.set_name(\"mnist_tiny_example\")\n",
    "model_info.set_domains([\"general\", \"digit recognition\"])\n",
    "\n",
    "#    Describe the outputs in more detail\n",
    "model_info['servable']['methods']['run']['output']['description'] = 'Probabilities of being 0-9'\n",
    "model_info['servable']['methods']['run']['input']['description'] = 'Image of a digit'\n",
    "\n",
    "# Print out the result\n",
    "print('\\n--> Model Information <--')\n",
    "print(json.dumps(model_info.to_dict(), indent=2))\n",
    "\n",
    "# Save the model information to pickle\n",
    "with open('model_info.pkl', 'wb') as fp:\n",
    "    pkl.dump(model_info, fp)"
   ]
  },
  {
   "cell_type": "markdown",
   "metadata": {},
   "source": [
    "# Run this to Publish the Model"
   ]
  },
  {
   "cell_type": "code",
   "execution_count": null,
   "metadata": {},
   "outputs": [],
   "source": [
    "dl = DLHubClient()"
   ]
  },
  {
   "cell_type": "code",
   "execution_count": 9,
   "metadata": {},
   "outputs": [],
   "source": [
    "res = dl.publish_servable(model_info)\n",
    "res"
   ]
  },
  {
   "cell_type": "code",
   "execution_count": 16,
   "metadata": {},
   "outputs": [
    {
     "data": {
      "text/plain": [
       "{'status': None, 'result': ''}"
      ]
     },
     "execution_count": 16,
     "metadata": {},
     "output_type": "execute_result"
    }
   ],
   "source": [
    "dl.get_task_status(res)"
   ]
  },
  {
   "cell_type": "code",
   "execution_count": null,
   "metadata": {},
   "outputs": [],
   "source": []
  }
 ],
 "metadata": {
  "kernelspec": {
   "display_name": "Python 3",
   "language": "python",
   "name": "python3"
  },
  "language_info": {
   "codemirror_mode": {
    "name": "ipython",
    "version": 3
   },
   "file_extension": ".py",
   "mimetype": "text/x-python",
   "name": "python",
   "nbconvert_exporter": "python",
   "pygments_lexer": "ipython3",
   "version": "3.6.7"
  }
 },
 "nbformat": 4,
 "nbformat_minor": 2
}
