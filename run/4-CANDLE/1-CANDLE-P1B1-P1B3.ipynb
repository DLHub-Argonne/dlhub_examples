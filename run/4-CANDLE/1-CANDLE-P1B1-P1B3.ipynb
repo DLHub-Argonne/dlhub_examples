{
 "cells": [
  {
   "cell_type": "markdown",
   "metadata": {},
   "source": [
    "# CANDLE and DLHub\n",
    "\n",
    "This notebook shows how DLHub can be used to work with ECP-CANDLE models. We first use the DLHubClient to discover existing models. Then we use the client to initiate a publication request of a pre-trained P1B1 model. Finally, we perform on-demand inference of both the P1B1 and Combo models that are published in DLHub."
   ]
  },
  {
   "cell_type": "code",
   "execution_count": 72,
   "metadata": {},
   "outputs": [],
   "source": [
    "%matplotlib inline\n",
    "from matplotlib import pyplot as plt\n",
    "import pandas as pd\n",
    "import numpy as np\n",
    "import json\n",
    "import os"
   ]
  },
  {
   "cell_type": "markdown",
   "metadata": {},
   "source": [
    "Use the DLHub SDK to create a DLHubClient. The DLHubCLient wraps both our REST API and Search catalog. You can use the client to publish, discover, and use models."
   ]
  },
  {
   "cell_type": "code",
   "execution_count": 73,
   "metadata": {},
   "outputs": [],
   "source": [
    "import dlhub_sdk\n",
    "dl = dlhub_sdk.DLHubClient()"
   ]
  },
  {
   "cell_type": "markdown",
   "metadata": {},
   "source": [
    "DLHub uses a custom metadata schema to encode models. This metadata describes the inputs, outputs, type, and author information. While we provider helper functions to aid in its creation, you can see the structure"
   ]
  },
  {
   "cell_type": "code",
   "execution_count": 74,
   "metadata": {
    "scrolled": false
   },
   "outputs": [
    {
     "data": {
      "text/plain": [
       "{'datacite': {'alternateIdentifiers': [{'alternateIdentifier': 'https://github.com/ECP-CANDLE/Benchmarks/tree/release_01/Pilot1/P1B1',\n",
       "    'alternateIdentifierType': 'URL'}],\n",
       "  'creators': [{'affiliations': 'CANDLE',\n",
       "    'familyName': 'Team',\n",
       "    'givenName': 'CANDLE'}],\n",
       "  'descriptions': [{'description': 'CANDLE pilot 1 benchmark 1 model.',\n",
       "    'descriptionType': 'Abstract'}],\n",
       "  'identifier': {'identifier': '10.YET/UNASSIGNED', 'identifierType': 'DOI'},\n",
       "  'publicationYear': '2019',\n",
       "  'publisher': 'DLHub',\n",
       "  'resourceType': {'resourceTypeGeneral': 'InteractiveResource'},\n",
       "  'titles': [{'title': 'CANDLE P1B1 Demo1'}]},\n",
       " 'dlhub': {'domains': ['genomics', 'cancer research'],\n",
       "  'ecr_uri': '039706667969.dkr.ecr.us-east-1.amazonaws.com/037c8768-45fd-4466-aa53-95d2044ae14f',\n",
       "  'files': {'model': 'p1b1.h5'},\n",
       "  'funcx_id': '642e2668-ea2c-4fef-b52c-0f47341c74b0',\n",
       "  'id': '037c8768-45fd-4466-aa53-95d2044ae14f',\n",
       "  'name': 'candle_p1b1_demo1',\n",
       "  'owner': 'ryan_globusid',\n",
       "  'publication_date': '1551124925604',\n",
       "  'shorthand_name': 'ryan_globusid/candle_p1b1_demo1',\n",
       "  'transfer_method': {'POST': 'file', 'path': '/mnt/tmp/servable.zip'},\n",
       "  'type': 'servable',\n",
       "  'user_id': '1',\n",
       "  'version': '0.6.0',\n",
       "  'visible_to': ['public']},\n",
       " 'servable': {'dependencies': {'python': {'h5py': '2.9.0',\n",
       "    'keras': '2.2.4',\n",
       "    'numpy': '1.16.1'}},\n",
       "  'language': 'python',\n",
       "  'methods': {'run': {'input': {'description': 'Input',\n",
       "     'shape': ['None', '60483'],\n",
       "     'type': 'ndarray'},\n",
       "    'method_details': {'classes': ['0',\n",
       "      '1',\n",
       "      '2',\n",
       "      '3',\n",
       "      '4',\n",
       "      '5',\n",
       "      '6',\n",
       "      '7',\n",
       "      '8',\n",
       "      '9'],\n",
       "     'method_name': 'predict'},\n",
       "    'output': {'description': 'Output',\n",
       "     'shape': ['None', '60483'],\n",
       "     'type': 'ndarray'}}},\n",
       "  'model_summary': '_________________________________________________________________\\nLayer (type)                 Output Shape              Param #   \\n=================================================================\\ninput_1 (InputLayer)         (None, 60483)             0         \\n_________________________________________________________________\\ndense_1 (Dense)              (None, 2000)              120968000 \\n_________________________________________________________________\\ndense_2 (Dense)              (None, 600)               1200600   \\n_________________________________________________________________\\ndense_3 (Dense)              (None, 2000)              1202000   \\n_________________________________________________________________\\ndense_4 (Dense)              (None, 60483)             121026483 \\n=================================================================\\nTotal params: 244,397,083\\nTrainable params: 244,397,083\\nNon-trainable params: 0\\n_________________________________________________________________\\n',\n",
       "  'model_type': 'Deep NN',\n",
       "  'shim': 'keras.KerasServable',\n",
       "  'type': 'Keras Model'}}"
      ]
     },
     "execution_count": 74,
     "metadata": {},
     "output_type": "execute_result"
    }
   ],
   "source": [
    "df_serv = dl.search_by_servable(servable_name=\"candle_p1b1_demo1\")\n",
    "df_serv[0]"
   ]
  },
  {
   "cell_type": "markdown",
   "metadata": {},
   "source": [
    "# Running models\n",
    "\n",
    "Below shows how to use the DLHub SDK to invoke the P1B1 model published in DLHub.\n",
    "\n",
    "I have taken a subset of the data available on the CANDLE FTP site and placed it in a local file called \"pilot1.npy\"."
   ]
  },
  {
   "cell_type": "code",
   "execution_count": 75,
   "metadata": {},
   "outputs": [],
   "source": [
    "test_data = np.load(\"pilot1.npy\")"
   ]
  },
  {
   "cell_type": "code",
   "execution_count": 76,
   "metadata": {
    "scrolled": true
   },
   "outputs": [
    {
     "name": "stdout",
     "output_type": "stream",
     "text": [
      "[[0.8681818  0.32765958 0.88584477 ... 0.         0.         0.        ]\n",
      " [0.8545454  0.4638298  0.8584475  ... 0.         0.         0.        ]\n",
      " [0.83181816 0.         0.9086758  ... 0.         0.         0.        ]\n",
      " ...\n",
      " [0.8454546  0.5702127  0.86757994 ... 0.         0.         0.        ]\n",
      " [0.84090906 0.4595745  0.8995434  ... 0.         0.         0.        ]\n",
      " [0.8363636  0.39148936 0.8538813  ... 0.         0.         0.        ]]\n",
      "There are 10 entries in the dataset. Each entry has 60483 values.\n"
     ]
    }
   ],
   "source": [
    "print(test_data)\n",
    "print(\"There are {0} entries in the dataset. Each entry has {1} values.\".format(len(test_data), len(test_data[0])))"
   ]
  },
  {
   "cell_type": "markdown",
   "metadata": {},
   "source": [
    "Now we need to find the model's name. I have previously published one called: \"candle_p1b1_demo1\""
   ]
  },
  {
   "cell_type": "code",
   "execution_count": 77,
   "metadata": {},
   "outputs": [
    {
     "data": {
      "text/plain": [
       "'ryan_globusid/candle_p1b1_demo1'"
      ]
     },
     "execution_count": 77,
     "metadata": {},
     "output_type": "execute_result"
    }
   ],
   "source": [
    "df_serv = dl.search_by_servable(servable_name=\"candle_p1b1_demo1\")\n",
    "servable_name = df_serv[0]['dlhub']['shorthand_name']\n",
    "servable_name"
   ]
  },
  {
   "cell_type": "code",
   "execution_count": 78,
   "metadata": {},
   "outputs": [
    {
     "data": {
      "text/plain": [
       "(10, 60483)"
      ]
     },
     "execution_count": 78,
     "metadata": {},
     "output_type": "execute_result"
    }
   ],
   "source": [
    "test_data.shape"
   ]
  },
  {
   "cell_type": "code",
   "execution_count": 79,
   "metadata": {},
   "outputs": [
    {
     "name": "stdout",
     "output_type": "stream",
     "text": [
      "60483\n"
     ]
    }
   ],
   "source": [
    "p1b1_preds = []\n",
    "for data in test_data:\n",
    "    print(len(data))\n",
    "    pred = dl.run(servable_name, [data.tolist()], input_type='json')\n",
    "    p1b1_preds.append(np.array(pred))\n",
    "    break"
   ]
  },
  {
   "cell_type": "code",
   "execution_count": 80,
   "metadata": {},
   "outputs": [
    {
     "data": {
      "text/plain": [
       "[array([[0.82595909, 0.32600409, 0.878483  , ..., 0.01652291, 0.01677323,\n",
       "         0.01659214]])]"
      ]
     },
     "execution_count": 80,
     "metadata": {},
     "output_type": "execute_result"
    }
   ],
   "source": [
    "p1b1_preds"
   ]
  },
  {
   "cell_type": "markdown",
   "metadata": {},
   "source": [
    "# Publishing Models\n",
    "\n",
    "To publish a model with DLHub we first gather some metadata about the model itself. Our SDK is designed to assist the user in generating this metadata.\n",
    "\n",
    "This example shows how to use the DLHub SDK to:\n",
    "- Using the SDK to automatically extract metadata from a Keras model.\n",
    "- Describing additional metadata about the model\n",
    "- Publishing the model"
   ]
  },
  {
   "cell_type": "markdown",
   "metadata": {},
   "source": [
    "# Publishing and Using Pilot 1: Combo\n",
    "\n",
    "This example uses the SDK to markup, publish, and use the Combo model. The trained model is provided as two files: a set of weights and an architecture file.\n",
    "\n",
    "The Combo model also requires a custom dropout layer. We have extended the Keras model loader to support this. However, the metadata describing the model must indicate that the custom layer is necessary and the layer needs to be shipped along with the model itself to create the servable."
   ]
  },
  {
   "cell_type": "code",
   "execution_count": 81,
   "metadata": {},
   "outputs": [],
   "source": [
    "from dlhub_sdk.models.servables.keras import KerasModel\n",
    "from dropout_layer import PermanentDropout\n",
    "import pickle as pkl\n",
    "import json\n",
    "# Describe the keras model\n",
    "model_info = KerasModel.create_model('saved.weights.h5', list(map(str, range(10))), \n",
    "                                     arch_path=\"saved.model.h5\", \n",
    "                                     custom_objects={\"PermanentDropout\": PermanentDropout})"
   ]
  },
  {
   "cell_type": "markdown",
   "metadata": {},
   "source": [
    "Here we use the SDK to directly publish the model using the model object. This process will first take each of the files listed in \"files\" block and create a temporary tar file. The tar file is then transmitted to the DLHub service (via a multipart POST request) and the JSON document is used to guide a publication pipeline. \n",
    "\n",
    "The publication process includes:\n",
    "- Creating a temporary tar of the files specified in the above JSON\n",
    "- Transmit the tar file to the DLHub service using a multipart POST request\n",
    "- Start a server-side flow to:\n",
    "    - Use the specified dependencies to create a docker container of the model\n",
    "    - Push a copy of the container to AWS ECR\n",
    "    - Ingest the metadata into the search index\n",
    "\n",
    "We could also save the above JSON document and use it to publish the model via our CLI or through our GitHub-based repo2docker pipeline."
   ]
  },
  {
   "cell_type": "code",
   "execution_count": 82,
   "metadata": {},
   "outputs": [
    {
     "data": {
      "text/plain": [
       "<dlhub_sdk.models.servables.keras.KerasModel at 0x7f44f8116048>"
      ]
     },
     "execution_count": 82,
     "metadata": {},
     "output_type": "execute_result"
    }
   ],
   "source": [
    "# Describe the model\n",
    "model_info.set_title(\"CANDLE Pilot1 Combo Demo3\")\n",
    "model_info.set_name(\"candle_p1_combo_demo3\")\n",
    "model_info.set_domains([\"genomics\",\"cancer research\"])\n",
    "\n",
    "# Add dependencies\n",
    "model_info.add_requirement('keras', 'detect')\n",
    "model_info.add_requirement('numpy', 'detect')\n",
    "\n",
    "# Add dropout layer file\n",
    "model_info.add_file(\"dropout_layer.py\")\n",
    "\n",
    "# Describe the outputs in more detail\n",
    "model_info['servable']['methods']['run']['output']['description'] = 'Output'\n",
    "model_info['servable']['methods']['run']['input']['description'] = 'Input'\n",
    "\n",
    "# Add provenance information\n",
    "model_info.set_authors([\"Team, CANDLE\"], [\"CANDLE\"])\n",
    "model_info.set_abstract(\"CANDLE pilot 1 combo model.\")\n",
    "model_info.add_alternate_identifier(\"https://github.com/ECP-CANDLE/Benchmarks/tree/master/Pilot1/Combo\", \"URL\")"
   ]
  },
  {
   "cell_type": "code",
   "execution_count": 83,
   "metadata": {},
   "outputs": [
    {
     "name": "stdout",
     "output_type": "stream",
     "text": [
      "{\n",
      "  \"datacite\": {\n",
      "    \"creators\": [\n",
      "      {\n",
      "        \"givenName\": \"CANDLE\",\n",
      "        \"familyName\": \"Team\",\n",
      "        \"affiliations\": \"CANDLE\"\n",
      "      }\n",
      "    ],\n",
      "    \"titles\": [\n",
      "      {\n",
      "        \"title\": \"CANDLE Pilot1 Combo Demo3\"\n",
      "      }\n",
      "    ],\n",
      "    \"publisher\": \"DLHub\",\n",
      "    \"publicationYear\": \"2019\",\n",
      "    \"identifier\": {\n",
      "      \"identifier\": \"10.YET/UNASSIGNED\",\n",
      "      \"identifierType\": \"DOI\"\n",
      "    },\n",
      "    \"descriptions\": [\n",
      "      {\n",
      "        \"description\": \"CANDLE pilot 1 combo model.\",\n",
      "        \"descriptionType\": \"Abstract\"\n",
      "      }\n",
      "    ],\n",
      "    \"fundingReferences\": [],\n",
      "    \"relatedIdentifiers\": [],\n",
      "    \"alternateIdentifiers\": [\n",
      "      {\n",
      "        \"alternateIdentifier\": \"https://github.com/ECP-CANDLE/Benchmarks/tree/master/Pilot1/Combo\",\n",
      "        \"alternateIdentifierType\": \"URL\"\n",
      "      }\n",
      "    ],\n",
      "    \"rightsList\": [],\n",
      "    \"resourceType\": {\n",
      "      \"resourceTypeGeneral\": \"InteractiveResource\"\n",
      "    }\n",
      "  },\n",
      "  \"dlhub\": {\n",
      "    \"version\": \"0.8.2\",\n",
      "    \"domains\": [\n",
      "      \"genomics\",\n",
      "      \"cancer research\"\n",
      "    ],\n",
      "    \"visible_to\": [\n",
      "      \"public\"\n",
      "    ],\n",
      "    \"name\": \"candle_p1_combo_demo3\",\n",
      "    \"files\": {\n",
      "      \"model\": \"saved.weights.h5\",\n",
      "      \"arch\": \"saved.model.h5\",\n",
      "      \"other\": [\n",
      "        \"dropout_layer.py\"\n",
      "      ]\n",
      "    },\n",
      "    \"type\": \"servable\",\n",
      "    \"dependencies\": {\n",
      "      \"python\": {\n",
      "        \"keras\": \"2.2.4\",\n",
      "        \"h5py\": \"2.9.0\",\n",
      "        \"tensorflow\": \"1.14.0\",\n",
      "        \"numpy\": \"1.16.4\"\n",
      "      }\n",
      "    }\n",
      "  },\n",
      "  \"servable\": {\n",
      "    \"methods\": {\n",
      "      \"run\": {\n",
      "        \"input\": {\n",
      "          \"type\": \"tuple\",\n",
      "          \"description\": \"Input\",\n",
      "          \"element_types\": [\n",
      "            {\n",
      "              \"type\": \"ndarray\",\n",
      "              \"description\": \"Tensor\",\n",
      "              \"shape\": [\n",
      "                null,\n",
      "                942\n",
      "              ]\n",
      "            },\n",
      "            {\n",
      "              \"type\": \"ndarray\",\n",
      "              \"description\": \"Tensor\",\n",
      "              \"shape\": [\n",
      "                null,\n",
      "                3820\n",
      "              ]\n",
      "            },\n",
      "            {\n",
      "              \"type\": \"ndarray\",\n",
      "              \"description\": \"Tensor\",\n",
      "              \"shape\": [\n",
      "                null,\n",
      "                3820\n",
      "              ]\n",
      "            }\n",
      "          ]\n",
      "        },\n",
      "        \"output\": {\n",
      "          \"type\": \"ndarray\",\n",
      "          \"description\": \"Output\",\n",
      "          \"shape\": [\n",
      "            null,\n",
      "            1\n",
      "          ]\n",
      "        },\n",
      "        \"parameters\": {},\n",
      "        \"method_details\": {\n",
      "          \"method_name\": \"predict\",\n",
      "          \"classes\": [\n",
      "            \"0\",\n",
      "            \"1\",\n",
      "            \"2\",\n",
      "            \"3\",\n",
      "            \"4\",\n",
      "            \"5\",\n",
      "            \"6\",\n",
      "            \"7\",\n",
      "            \"8\",\n",
      "            \"9\"\n",
      "          ]\n",
      "        }\n",
      "      }\n",
      "    },\n",
      "    \"shim\": \"keras.KerasServable\",\n",
      "    \"type\": \"Keras Model\",\n",
      "    \"options\": {\n",
      "      \"custom_objects\": {\n",
      "        \"PermanentDropout\": \"dropout_layer.PermanentDropout\"\n",
      "      }\n",
      "    },\n",
      "    \"model_summary\": \"__________________________________________________________________________________________________\\nLayer (type)                    Output Shape         Param #     Connected to                     \\n==================================================================================================\\ninput.cell.expression (InputLay (None, 942)          0                                            \\n__________________________________________________________________________________________________\\ninput.drug1.descriptors (InputL (None, 3820)         0                                            \\n__________________________________________________________________________________________________\\ninput.drug2.descriptors (InputL (None, 3820)         0                                            \\n__________________________________________________________________________________________________\\ncell.expression (Model)         (None, 1000)         2945000     input.cell.expression[0][0]      \\n__________________________________________________________________________________________________\\ndrug.descriptors (Model)        (None, 1000)         5823000     input.drug1.descriptors[0][0]    \\n                                                                 input.drug2.descriptors[0][0]    \\n__________________________________________________________________________________________________\\nconcatenate_2 (Concatenate)     (None, 3000)         0           cell.expression[1][0]            \\n                                                                 drug.descriptors[1][0]           \\n                                                                 drug.descriptors[2][0]           \\n__________________________________________________________________________________________________\\ndense_17 (Dense)                (None, 1000)         3001000     concatenate_2[0][0]              \\n__________________________________________________________________________________________________\\npermanent_dropout_16 (Permanent (None, 1000)         0           dense_17[0][0]                   \\n__________________________________________________________________________________________________\\ndense_18 (Dense)                (None, 1000)         1001000     permanent_dropout_16[0][0]       \\n__________________________________________________________________________________________________\\npermanent_dropout_17 (Permanent (None, 1000)         0           dense_18[0][0]                   \\n__________________________________________________________________________________________________\\nadd_5 (Add)                     (None, 1000)         0           permanent_dropout_17[0][0]       \\n                                                                 permanent_dropout_16[0][0]       \\n__________________________________________________________________________________________________\\ndense_19 (Dense)                (None, 1000)         1001000     add_5[0][0]                      \\n__________________________________________________________________________________________________\\npermanent_dropout_18 (Permanent (None, 1000)         0           dense_19[0][0]                   \\n__________________________________________________________________________________________________\\nadd_6 (Add)                     (None, 1000)         0           permanent_dropout_18[0][0]       \\n                                                                 add_5[0][0]                      \\n__________________________________________________________________________________________________\\ndense_20 (Dense)                (None, 1)            1001        add_6[0][0]                      \\n==================================================================================================\\nTotal params: 13,772,001\\nTrainable params: 13,772,001\\nNon-trainable params: 0\\n__________________________________________________________________________________________________\\n\",\n",
      "    \"model_type\": \"Deep NN\"\n",
      "  }\n",
      "}\n"
     ]
    }
   ],
   "source": [
    "print(json.dumps(model_info.to_dict(), indent=2))"
   ]
  },
  {
   "cell_type": "code",
   "execution_count": 18,
   "metadata": {},
   "outputs": [],
   "source": [
    "task_id = dl.publish_servable(model_info)"
   ]
  },
  {
   "cell_type": "code",
   "execution_count": 19,
   "metadata": {},
   "outputs": [
    {
     "data": {
      "text/plain": [
       "'c3139cb6-ab0e-4ca0-a3a8-35832536d903'"
      ]
     },
     "execution_count": 19,
     "metadata": {},
     "output_type": "execute_result"
    }
   ],
   "source": [
    "task_id"
   ]
  },
  {
   "cell_type": "markdown",
   "metadata": {},
   "source": [
    "## Running the Combo model\n",
    "\n",
    "I'm not actually sure what data this thing takes, but the model summary states that there are three inputs:\n",
    "\n",
    "input.cell.expression (InputLay (None, 942)<br>\n",
    "input.drug1.descriptors (InputL (None, 3820)<br>\n",
    "input.drug2.descriptors (InputL (None, 3820)<br>\n",
    "\n",
    "Therefore we can create example input to ensure the model is running correctly."
   ]
  },
  {
   "cell_type": "code",
   "execution_count": 84,
   "metadata": {},
   "outputs": [
    {
     "name": "stdout",
     "output_type": "stream",
     "text": [
      "__________________________________________________________________________________________________\n",
      "Layer (type)                    Output Shape         Param #     Connected to                     \n",
      "==================================================================================================\n",
      "input.cell.expression (InputLay (None, 942)          0                                            \n",
      "__________________________________________________________________________________________________\n",
      "input.drug1.descriptors (InputL (None, 3820)         0                                            \n",
      "__________________________________________________________________________________________________\n",
      "input.drug2.descriptors (InputL (None, 3820)         0                                            \n",
      "__________________________________________________________________________________________________\n",
      "cell.expression (Model)         (None, 1000)         2945000     input.cell.expression[0][0]      \n",
      "__________________________________________________________________________________________________\n",
      "drug.descriptors (Model)        (None, 1000)         5823000     input.drug1.descriptors[0][0]    \n",
      "                                                                 input.drug2.descriptors[0][0]    \n",
      "__________________________________________________________________________________________________\n",
      "concatenate_2 (Concatenate)     (None, 3000)         0           cell.expression[1][0]            \n",
      "                                                                 drug.descriptors[1][0]           \n",
      "                                                                 drug.descriptors[2][0]           \n",
      "__________________________________________________________________________________________________\n",
      "dense_17 (Dense)                (None, 1000)         3001000     concatenate_2[0][0]              \n",
      "__________________________________________________________________________________________________\n",
      "permanent_dropout_16 (Permanent (None, 1000)         0           dense_17[0][0]                   \n",
      "__________________________________________________________________________________________________\n",
      "dense_18 (Dense)                (None, 1000)         1001000     permanent_dropout_16[0][0]       \n",
      "__________________________________________________________________________________________________\n",
      "permanent_dropout_17 (Permanent (None, 1000)         0           dense_18[0][0]                   \n",
      "__________________________________________________________________________________________________\n",
      "add_5 (Add)                     (None, 1000)         0           permanent_dropout_17[0][0]       \n",
      "                                                                 permanent_dropout_16[0][0]       \n",
      "__________________________________________________________________________________________________\n",
      "dense_19 (Dense)                (None, 1000)         1001000     add_5[0][0]                      \n",
      "__________________________________________________________________________________________________\n",
      "permanent_dropout_18 (Permanent (None, 1000)         0           dense_19[0][0]                   \n",
      "__________________________________________________________________________________________________\n",
      "add_6 (Add)                     (None, 1000)         0           permanent_dropout_18[0][0]       \n",
      "                                                                 add_5[0][0]                      \n",
      "__________________________________________________________________________________________________\n",
      "dense_20 (Dense)                (None, 1)            1001        add_6[0][0]                      \n",
      "==================================================================================================\n",
      "Total params: 13,772,001\n",
      "Trainable params: 13,772,001\n",
      "Non-trainable params: 0\n",
      "__________________________________________________________________________________________________\n",
      "\n"
     ]
    }
   ],
   "source": [
    "servable_desc = dl.describe_servable('ryan_globusid/candle_p1_combo_demo3')\n",
    "print(servable_desc['servable']['model_summary'])"
   ]
  },
  {
   "cell_type": "markdown",
   "metadata": {},
   "source": [
    "The servable description also contains more succinct description of the inputs"
   ]
  },
  {
   "cell_type": "code",
   "execution_count": 85,
   "metadata": {},
   "outputs": [
    {
     "data": {
      "text/plain": [
       "{'description': 'Input',\n",
       " 'element_types': [{'description': 'Tensor',\n",
       "   'shape': ['None', '942'],\n",
       "   'type': 'ndarray'},\n",
       "  {'description': 'Tensor', 'shape': ['None', '3820'], 'type': 'ndarray'},\n",
       "  {'description': 'Tensor', 'shape': ['None', '3820'], 'type': 'ndarray'}],\n",
       " 'type': 'tuple'}"
      ]
     },
     "execution_count": 85,
     "metadata": {},
     "output_type": "execute_result"
    }
   ],
   "source": [
    "servable_desc['servable']['methods']['run']['input']"
   ]
  },
  {
   "cell_type": "markdown",
   "metadata": {},
   "source": [
    "The client also provides a shortcut for accessing the input descriptions, as we anticipate that being a common need"
   ]
  },
  {
   "cell_type": "code",
   "execution_count": 86,
   "metadata": {},
   "outputs": [
    {
     "data": {
      "text/plain": [
       "{'input': {'description': 'Input',\n",
       "  'element_types': [{'description': 'Tensor',\n",
       "    'shape': ['None', '942'],\n",
       "    'type': 'ndarray'},\n",
       "   {'description': 'Tensor', 'shape': ['None', '3820'], 'type': 'ndarray'},\n",
       "   {'description': 'Tensor', 'shape': ['None', '3820'], 'type': 'ndarray'}],\n",
       "  'type': 'tuple'},\n",
       " 'output': {'description': 'Output',\n",
       "  'shape': ['None', '1'],\n",
       "  'type': 'ndarray'},\n",
       " 'parameters': {}}"
      ]
     },
     "execution_count": 86,
     "metadata": {},
     "output_type": "execute_result"
    }
   ],
   "source": [
    "dl.describe_methods('ryan_globusid/candle_p1_combo_demo3', 'run')"
   ]
  },
  {
   "cell_type": "markdown",
   "metadata": {},
   "source": [
    "Given this information, we can create inputs in the proper format and use them to run the model"
   ]
  },
  {
   "cell_type": "code",
   "execution_count": 87,
   "metadata": {},
   "outputs": [],
   "source": [
    "combo_input = [np.zeros((200, 942)).tolist(), \n",
    "               np.zeros((200, 3820)).tolist(), \n",
    "               np.zeros((200, 3820)).tolist()]"
   ]
  },
  {
   "cell_type": "code",
   "execution_count": 88,
   "metadata": {},
   "outputs": [],
   "source": [
    "res = dl.run('ryan_globusid/candle_p1_combo_demo3', combo_input, input_type='json')"
   ]
  },
  {
   "cell_type": "code",
   "execution_count": 89,
   "metadata": {},
   "outputs": [
    {
     "data": {
      "text/plain": [
       "Text(0, 0.5, 'Frequency')"
      ]
     },
     "execution_count": 89,
     "metadata": {},
     "output_type": "execute_result"
    },
    {
     "data": {
      "image/png": "[encoded data removed]",
      "text/plain": [
       "<Figure size 432x288 with 1 Axes>"
      ]
     },
     "metadata": {
      "needs_background": "light"
     },
     "output_type": "display_data"
    }
   ],
   "source": [
    "fig, ax = plt.subplots()\n",
    "\n",
    "ax.hist(np.ravel(res), density=True)\n",
    "\n",
    "ax.set_xlabel('Output')\n",
    "ax.set_ylabel('Frequency')"
   ]
  },
  {
   "cell_type": "markdown",
   "metadata": {},
   "source": [
    "The distribution of the outputs has a non-zero variance, as expected given that the \"p1_combo\" model contains a dropout layer that is still active on predictions."
   ]
  },
  {
   "cell_type": "code",
   "execution_count": null,
   "metadata": {},
   "outputs": [],
   "source": []
  }
 ],
 "metadata": {
  "kernelspec": {
   "display_name": "Python 3",
   "language": "python",
   "name": "python3"
  },
  "language_info": {
   "codemirror_mode": {
    "name": "ipython",
    "version": 3
   },
   "file_extension": ".py",
   "mimetype": "text/x-python",
   "name": "python",
   "nbconvert_exporter": "python",
   "pygments_lexer": "ipython3",
   "version": "3.6.8"
  }
 },
 "nbformat": 4,
 "nbformat_minor": 2
}
