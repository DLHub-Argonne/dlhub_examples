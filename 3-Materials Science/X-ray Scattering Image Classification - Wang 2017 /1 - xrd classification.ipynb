{
 "cells": [
  {
   "cell_type": "code",
   "execution_count": 1,
   "metadata": {},
   "outputs": [],
   "source": [
    "import matplotlib\n",
    "import globus_sdk\n",
    "import numpy as np\n",
    "import pandas as pd\n",
    "import matplotlib.pyplot as plt\n",
    "from tqdm import tqdm_notebook as tqdm\n",
    "%matplotlib inline\n",
    "\n",
    "## MDF and DLHub imports\n",
    "from mdf_forge.forge import Forge\n",
    "import mdf_toolbox\n",
    "from dlhub_client.client import DLHub"
   ]
  },
  {
   "cell_type": "code",
   "execution_count": 2,
   "metadata": {},
   "outputs": [],
   "source": [
    "mdf = Forge()\n",
    "dl = DLHub()\n",
    "creds = mdf_toolbox.login(app_name=\"DLHub\", services=[\"petrel\", \"data_mdf\", \"transfer\"])"
   ]
  },
  {
   "cell_type": "markdown",
   "metadata": {},
   "source": [
    "---\n",
    "A classification model for x-ray diffraction images\n",
    "\n",
    "Here we use a deep learning model developed by [Kevin Yager and colleagues](https://doi.org/10.1109/NYSDS.2017.8085045) at Brookhaven National Laboratory that uses residual deep learning networks to assign useful tags to small angle scattering (SAXS) images. Such a model might be used from a light source beamline, for example, to validate data as they are collected.\n",
    "\n",
    "The servable is set up to retrieve a specified image from Petrel, a multi-petabyte data store at Argonne used to hold data from Advanced Photon Source experiments, and then pass the image through the Yager model.\n",
    "\n",
    "![resnet](img/resnet_1.png)"
   ]
  },
  {
   "cell_type": "markdown",
   "metadata": {},
   "source": [
    "## Get a list of data from Petrel\n",
    "\n",
    "Use the Globus Transfer token to list the contents of a directory on Petrel. "
   ]
  },
  {
   "cell_type": "code",
   "execution_count": 3,
   "metadata": {},
   "outputs": [],
   "source": [
    "target_endpoint = \"e38ee745-6d04-11e5-ba46-22000b92c6ec\"\n",
    "target_path = \"Yager/model/raw/01470b9d_varied_sm/\"\n",
    "\n",
    "ls_result = creds['transfer'].operation_ls(target_endpoint, path=target_path)\n",
    "bnl_inputs = []\n",
    "for file_meta in ls_result:\n",
    "    if file_meta['type'] == \"file\":\n",
    "        bnl_inputs.append(\"https://{}.e.globus.org/{}{}\".format(target_endpoint, target_path, file_meta['name']))"
   ]
  },
  {
   "cell_type": "markdown",
   "metadata": {},
   "source": [
    "## Generate a list of images to pass to the model for labeling\n",
    "Here is an example image:\n",
    "\n",
    "![example image](img/0000002f.jpg)"
   ]
  },
  {
   "cell_type": "code",
   "execution_count": 4,
   "metadata": {},
   "outputs": [
    {
     "name": "stdout",
     "output_type": "stream",
     "text": [
      "https://e38ee745-6d04-11e5-ba46-22000b92c6ec.e.globus.org/Yager/model/raw/01470b9d_varied_sm/00000000.mat\n",
      "https://e38ee745-6d04-11e5-ba46-22000b92c6ec.e.globus.org/Yager/model/raw/01470b9d_varied_sm/00000001.mat\n"
     ]
    },
    {
     "data": {
      "text/html": [
       "<div>\n",
       "<style scoped>\n",
       "    .dataframe tbody tr th:only-of-type {\n",
       "        vertical-align: middle;\n",
       "    }\n",
       "\n",
       "    .dataframe tbody tr th {\n",
       "        vertical-align: top;\n",
       "    }\n",
       "\n",
       "    .dataframe thead th {\n",
       "        text-align: right;\n",
       "    }\n",
       "</style>\n",
       "<table border=\"1\" class=\"dataframe\">\n",
       "  <thead>\n",
       "    <tr style=\"text-align: right;\">\n",
       "      <th></th>\n",
       "      <th>file</th>\n",
       "      <th>token</th>\n",
       "    </tr>\n",
       "  </thead>\n",
       "  <tbody>\n",
       "    <tr>\n",
       "      <th>0</th>\n",
       "      <td>https://e38ee745-6d04-11e5-ba46-22000b92c6ec.e...</td>\n",
       "      <td>AgQEBzvJ2PrD6zGlBzQKaWO23YqNzD3XO1M476k9Bzv5Ky...</td>\n",
       "    </tr>\n",
       "    <tr>\n",
       "      <th>1</th>\n",
       "      <td>https://e38ee745-6d04-11e5-ba46-22000b92c6ec.e...</td>\n",
       "      <td>AgQEBzvJ2PrD6zGlBzQKaWO23YqNzD3XO1M476k9Bzv5Ky...</td>\n",
       "    </tr>\n",
       "  </tbody>\n",
       "</table>\n",
       "</div>"
      ],
      "text/plain": [
       "                                                file  \\\n",
       "0  https://e38ee745-6d04-11e5-ba46-22000b92c6ec.e...   \n",
       "1  https://e38ee745-6d04-11e5-ba46-22000b92c6ec.e...   \n",
       "\n",
       "                                               token  \n",
       "0  AgQEBzvJ2PrD6zGlBzQKaWO23YqNzD3XO1M476k9Bzv5Ky...  \n",
       "1  AgQEBzvJ2PrD6zGlBzQKaWO23YqNzD3XO1M476k9Bzv5Ky...  "
      ]
     },
     "execution_count": 4,
     "metadata": {},
     "output_type": "execute_result"
    }
   ],
   "source": [
    "data = []\n",
    "for filename in bnl_inputs[0:2]:\n",
    "    print(filename)\n",
    "    data.append({\"file\": filename, \"token\": creds['petrel'].access_token})\n",
    "df_bnl = pd.DataFrame(data)\n",
    "df_bnl.head()"
   ]
  },
  {
   "cell_type": "markdown",
   "metadata": {},
   "source": [
    "## Invoke the Yager model on one of these images\n",
    "\n",
    "(This can be a bit slow if the result isn't cached. We are working to optimize.)"
   ]
  },
  {
   "cell_type": "code",
   "execution_count": 5,
   "metadata": {},
   "outputs": [
    {
     "data": {
      "application/vnd.jupyter.widget-view+json": {
       "model_id": "d2c9a7947eb64329b06c8334af565ad7",
       "version_major": 2,
       "version_minor": 0
      },
      "text/html": [
       "<p>Failed to display Jupyter Widget of type <code>HBox</code>.</p>\n",
       "<p>\n",
       "  If you're reading this message in the Jupyter Notebook or JupyterLab Notebook, it may mean\n",
       "  that the widgets JavaScript is still loading. If this message persists, it\n",
       "  likely means that the widgets JavaScript library is either not installed or\n",
       "  not enabled. See the <a href=\"https://ipywidgets.readthedocs.io/en/stable/user_install.html\">Jupyter\n",
       "  Widgets Documentation</a> for setup instructions.\n",
       "</p>\n",
       "<p>\n",
       "  If you're reading this message in another frontend (for example, a static\n",
       "  rendering on GitHub or <a href=\"https://nbviewer.jupyter.org/\">NBViewer</a>),\n",
       "  it may mean that your frontend doesn't currently support widgets.\n",
       "</p>\n"
      ],
      "text/plain": [
       "HBox(children=(IntProgress(value=0, max=2), HTML(value='')))"
      ]
     },
     "metadata": {},
     "output_type": "display_data"
    },
    {
     "name": "stdout",
     "output_type": "stream",
     "text": [
      "\n"
     ]
    },
    {
     "data": {
      "text/html": [
       "<div>\n",
       "<style scoped>\n",
       "    .dataframe tbody tr th:only-of-type {\n",
       "        vertical-align: middle;\n",
       "    }\n",
       "\n",
       "    .dataframe tbody tr th {\n",
       "        vertical-align: top;\n",
       "    }\n",
       "\n",
       "    .dataframe thead th {\n",
       "        text-align: right;\n",
       "    }\n",
       "</style>\n",
       "<table border=\"1\" class=\"dataframe\">\n",
       "  <thead>\n",
       "    <tr style=\"text-align: right;\">\n",
       "      <th></th>\n",
       "      <th>file</th>\n",
       "      <th>token</th>\n",
       "      <th>prediction</th>\n",
       "    </tr>\n",
       "  </thead>\n",
       "  <tbody>\n",
       "    <tr>\n",
       "      <th>0</th>\n",
       "      <td>https://e38ee745-6d04-11e5-ba46-22000b92c6ec.e...</td>\n",
       "      <td>AgQEBzvJ2PrD6zGlBzQKaWO23YqNzD3XO1M476k9Bzv5Ky...</td>\n",
       "      <td>[1.4985761254138197e-07, 0.999998927116394, 0....</td>\n",
       "    </tr>\n",
       "    <tr>\n",
       "      <th>1</th>\n",
       "      <td>https://e38ee745-6d04-11e5-ba46-22000b92c6ec.e...</td>\n",
       "      <td>AgQEBzvJ2PrD6zGlBzQKaWO23YqNzD3XO1M476k9Bzv5Ky...</td>\n",
       "      <td>[8.551788823751849e-07, 1.0, 8.665214323855253...</td>\n",
       "    </tr>\n",
       "  </tbody>\n",
       "</table>\n",
       "</div>"
      ],
      "text/plain": [
       "                                                file  \\\n",
       "0  https://e38ee745-6d04-11e5-ba46-22000b92c6ec.e...   \n",
       "1  https://e38ee745-6d04-11e5-ba46-22000b92c6ec.e...   \n",
       "\n",
       "                                               token  \\\n",
       "0  AgQEBzvJ2PrD6zGlBzQKaWO23YqNzD3XO1M476k9Bzv5Ky...   \n",
       "1  AgQEBzvJ2PrD6zGlBzQKaWO23YqNzD3XO1M476k9Bzv5Ky...   \n",
       "\n",
       "                                          prediction  \n",
       "0  [1.4985761254138197e-07, 0.999998927116394, 0....  \n",
       "1  [8.551788823751849e-07, 1.0, 8.665214323855253...  "
      ]
     },
     "execution_count": 5,
     "metadata": {},
     "output_type": "execute_result"
    }
   ],
   "source": [
    "servable_name = \"yager_xrd_classifier\"\n",
    "servable_id = dl.get_id_by_name(servable_name)\n",
    "\n",
    "preds=[]\n",
    "\n",
    "for d in tqdm(data, total=len(data)):\n",
    "    res = dl.run(servable_id, {\"data\":[d]})\n",
    "    preds.append(res[0][0])\n",
    "df_bnl['prediction'] = preds\n",
    "df_bnl.head()"
   ]
  },
  {
   "cell_type": "markdown",
   "metadata": {},
   "source": [
    "## Translate predictions into tags\n",
    "To make these predictions useful to humans..."
   ]
  },
  {
   "cell_type": "code",
   "execution_count": 6,
   "metadata": {},
   "outputs": [
    {
     "data": {
      "text/html": [
       "<div>\n",
       "<style scoped>\n",
       "    .dataframe tbody tr th:only-of-type {\n",
       "        vertical-align: middle;\n",
       "    }\n",
       "\n",
       "    .dataframe tbody tr th {\n",
       "        vertical-align: top;\n",
       "    }\n",
       "\n",
       "    .dataframe thead th {\n",
       "        text-align: right;\n",
       "    }\n",
       "</style>\n",
       "<table border=\"1\" class=\"dataframe\">\n",
       "  <thead>\n",
       "    <tr style=\"text-align: right;\">\n",
       "      <th></th>\n",
       "      <th>probability</th>\n",
       "      <th>tags</th>\n",
       "    </tr>\n",
       "  </thead>\n",
       "  <tbody>\n",
       "    <tr>\n",
       "      <th>1</th>\n",
       "      <td>0.999999</td>\n",
       "      <td>Beam Off Image</td>\n",
       "    </tr>\n",
       "    <tr>\n",
       "      <th>12</th>\n",
       "      <td>0.000764</td>\n",
       "      <td>Ring</td>\n",
       "    </tr>\n",
       "    <tr>\n",
       "      <th>15</th>\n",
       "      <td>0.000229</td>\n",
       "      <td>Weak scattering</td>\n",
       "    </tr>\n",
       "    <tr>\n",
       "      <th>2</th>\n",
       "      <td>0.000222</td>\n",
       "      <td>Circular Beamstop</td>\n",
       "    </tr>\n",
       "    <tr>\n",
       "      <th>8</th>\n",
       "      <td>0.000077</td>\n",
       "      <td>Higher orders</td>\n",
       "    </tr>\n",
       "    <tr>\n",
       "      <th>16</th>\n",
       "      <td>0.000004</td>\n",
       "      <td>Wedge beamstop</td>\n",
       "    </tr>\n",
       "    <tr>\n",
       "      <th>3</th>\n",
       "      <td>0.000003</td>\n",
       "      <td>Diffuse high-q</td>\n",
       "    </tr>\n",
       "    <tr>\n",
       "      <th>6</th>\n",
       "      <td>0.000002</td>\n",
       "      <td>Halo</td>\n",
       "    </tr>\n",
       "    <tr>\n",
       "      <th>13</th>\n",
       "      <td>0.000001</td>\n",
       "      <td>Strong scattering</td>\n",
       "    </tr>\n",
       "    <tr>\n",
       "      <th>9</th>\n",
       "      <td>0.000001</td>\n",
       "      <td>Linear beamstop</td>\n",
       "    </tr>\n",
       "  </tbody>\n",
       "</table>\n",
       "</div>"
      ],
      "text/plain": [
       "    probability               tags\n",
       "1      0.999999     Beam Off Image\n",
       "12     0.000764               Ring\n",
       "15     0.000229    Weak scattering\n",
       "2      0.000222  Circular Beamstop\n",
       "8      0.000077      Higher orders\n",
       "16     0.000004     Wedge beamstop\n",
       "3      0.000003     Diffuse high-q\n",
       "6      0.000002               Halo\n",
       "13     0.000001  Strong scattering\n",
       "9      0.000001    Linear beamstop"
      ]
     },
     "execution_count": 6,
     "metadata": {},
     "output_type": "execute_result"
    }
   ],
   "source": [
    "df_tags = pd.read_csv('./tags.txt',  '\\n', header=None) ## Eventually this will be read in from the model metadata in Search\n",
    "\n",
    "def get_tags(entry):\n",
    "    df_tmp = pd.DataFrame()\n",
    "    df_tmp['probability'] = entry['prediction']\n",
    "    df_tmp['tags'] = df_tags[0]\n",
    "    return df_tmp\n",
    "\n",
    "df_p = get_tags(df_bnl.iloc[0])\n",
    "df_p.sort_values([\"probability\"], ascending=False).head(10)"
   ]
  },
  {
   "cell_type": "markdown",
   "metadata": {},
   "source": [
    "The machine learning model predicts a 99.9% certainity that the beam is off image. We plan to incorporate this kind of model into the beamline facilities at ANL so that scientists (or robots!) at the beamline can quickly identify when their experiments are producing useless data."
   ]
  }
 ],
 "metadata": {
  "kernelspec": {
   "display_name": "Python 3",
   "language": "python",
   "name": "python3"
  },
  "language_info": {
   "codemirror_mode": {
    "name": "ipython",
    "version": 3
   },
   "file_extension": ".py",
   "mimetype": "text/x-python",
   "name": "python",
   "nbconvert_exporter": "python",
   "pygments_lexer": "ipython3",
   "version": "3.6.5"
  }
 },
 "nbformat": 4,
 "nbformat_minor": 2
}
