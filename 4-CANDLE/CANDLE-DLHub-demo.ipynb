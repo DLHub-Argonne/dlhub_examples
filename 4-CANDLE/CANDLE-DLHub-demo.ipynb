{
 "cells": [
  {
   "cell_type": "markdown",
   "metadata": {
    "collapsed": true
   },
   "source": [
    "# CANDLE and DLHub\n",
    "\n",
    "This notebook shows how DLHub can be used to work with ECP-CANDLE models. We first use the DLHubClient to discover existing models. Then we use the client to initiate a publication request of a pre-trained P1B1 model. Finally, we perform on-demand inference of both the P1B1 and Combo models that are published in DLHub."
   ]
  },
  {
   "cell_type": "code",
   "execution_count": 1,
   "metadata": {},
   "outputs": [],
   "source": [
    "%matplotlib inline\n",
    "from matplotlib import pyplot as plt\n",
    "import pandas as pd\n",
    "import numpy as np\n",
    "import json\n",
    "import os"
   ]
  },
  {
   "cell_type": "markdown",
   "metadata": {},
   "source": [
    "Use the DLHub SDK to create a DLHubClient. The DLHubCLient wraps both our REST API and Search catalog. You can use the client to publish, discover, and use models."
   ]
  },
  {
   "cell_type": "code",
   "execution_count": 2,
   "metadata": {},
   "outputs": [],
   "source": [
    "import dlhub_sdk\n",
    "dl = dlhub_sdk.DLHubClient()"
   ]
  },
  {
   "cell_type": "markdown",
   "metadata": {},
   "source": [
    "DLHub uses a custom metadata schema to encode models. This metadata describes the inputs, outputs, type, and author information. While we provider helper functions to aid in its creation, you can see the structure"
   ]
  },
  {
   "cell_type": "code",
   "execution_count": 3,
   "metadata": {
    "scrolled": false
   },
   "outputs": [
    {
     "data": {
      "text/plain": [
       "{'datacite': {'alternateIdentifiers': [{'alternateIdentifier': 'https://github.com/ECP-CANDLE/Benchmarks/tree/master/Pilot1/Combo',\n",
       "    'alternateIdentifierType': 'URL'}],\n",
       "  'creators': [{'affiliations': 'CANDLE',\n",
       "    'familyName': 'Team',\n",
       "    'givenName': 'CANDLE'}],\n",
       "  'descriptions': [{'description': 'CANDLE pilot 1 combo model.',\n",
       "    'descriptionType': 'Abstract'}],\n",
       "  'identifier': {'identifier': '10.YET/UNASSIGNED', 'identifierType': 'DOI'},\n",
       "  'publicationYear': '2019',\n",
       "  'publisher': 'DLHub',\n",
       "  'resourceType': {'resourceTypeGeneral': 'InteractiveResource'},\n",
       "  'titles': [{'title': 'CANDLE Pilot1 Combo Demo1'}]},\n",
       " 'dlhub': {'domains': ['genomics', 'cancer research'],\n",
       "  'ecr_uri': '039706667969.dkr.ecr.us-east-1.amazonaws.com/b82c8643-ffd5-4a55-a02c-5b12982ac2ca',\n",
       "  'files': {'arch': 'saved.model.h5',\n",
       "   'model': 'saved.weights.h5',\n",
       "   'other': ['dropout_layer.py']},\n",
       "  'funcx_id': '0a30913d-31be-4c5e-a36b-38da78a5abfc',\n",
       "  'id': 'b82c8643-ffd5-4a55-a02c-5b12982ac2ca',\n",
       "  'name': 'candle_p1_combo_demo1',\n",
       "  'owner': 'loganw_globusid',\n",
       "  'publication_date': '1551207070916',\n",
       "  'shorthand_name': 'loganw_globusid/candle_p1_combo_demo1',\n",
       "  'transfer_method': {'POST': 'file', 'path': '/mnt/tmp/servable.zip'},\n",
       "  'type': 'servable',\n",
       "  'user_id': '3',\n",
       "  'version': '0.6.1',\n",
       "  'visible_to': ['public']},\n",
       " 'servable': {'dependencies': {'python': {'h5py': '2.8.0',\n",
       "    'keras': '2.1.3',\n",
       "    'numpy': '1.15.4'}},\n",
       "  'language': 'python',\n",
       "  'methods': {'run': {'input': {'description': 'Input',\n",
       "     'element_types': [{'description': 'Tensor',\n",
       "       'shape': ['None', '942'],\n",
       "       'type': 'ndarray'},\n",
       "      {'description': 'Tensor', 'shape': ['None', '3820'], 'type': 'ndarray'},\n",
       "      {'description': 'Tensor', 'shape': ['None', '3820'], 'type': 'ndarray'}],\n",
       "     'type': 'tuple'},\n",
       "    'method_details': {'classes': ['0',\n",
       "      '1',\n",
       "      '2',\n",
       "      '3',\n",
       "      '4',\n",
       "      '5',\n",
       "      '6',\n",
       "      '7',\n",
       "      '8',\n",
       "      '9'],\n",
       "     'method_name': 'predict'},\n",
       "    'output': {'description': 'Output',\n",
       "     'shape': ['None', '1'],\n",
       "     'type': 'ndarray'}}},\n",
       "  'model_summary': '__________________________________________________________________________________________________\\nLayer (type)                    Output Shape         Param #     Connected to                     \\n==================================================================================================\\ninput.cell.expression (InputLay (None, 942)          0                                            \\n__________________________________________________________________________________________________\\ninput.drug1.descriptors (InputL (None, 3820)         0                                            \\n__________________________________________________________________________________________________\\ninput.drug2.descriptors (InputL (None, 3820)         0                                            \\n__________________________________________________________________________________________________\\ncell.expression (Model)         (None, 1000)         2945000     input.cell.expression[0][0]      \\n__________________________________________________________________________________________________\\ndrug.descriptors (Model)        (None, 1000)         5823000     input.drug1.descriptors[0][0]    \\n                                                                 input.drug2.descriptors[0][0]    \\n__________________________________________________________________________________________________\\nconcatenate_2 (Concatenate)     (None, 3000)         0           cell.expression[1][0]            \\n                                                                 drug.descriptors[1][0]           \\n                                                                 drug.descriptors[2][0]           \\n__________________________________________________________________________________________________\\ndense_17 (Dense)                (None, 1000)         3001000     concatenate_2[0][0]              \\n__________________________________________________________________________________________________\\npermanent_dropout_16 (Permanent (None, 1000)         0           dense_17[0][0]                   \\n__________________________________________________________________________________________________\\ndense_18 (Dense)                (None, 1000)         1001000     permanent_dropout_16[0][0]       \\n__________________________________________________________________________________________________\\npermanent_dropout_17 (Permanent (None, 1000)         0           dense_18[0][0]                   \\n__________________________________________________________________________________________________\\nadd_5 (Add)                     (None, 1000)         0           permanent_dropout_17[0][0]       \\n                                                                 permanent_dropout_16[0][0]       \\n__________________________________________________________________________________________________\\ndense_19 (Dense)                (None, 1000)         1001000     add_5[0][0]                      \\n__________________________________________________________________________________________________\\npermanent_dropout_18 (Permanent (None, 1000)         0           dense_19[0][0]                   \\n__________________________________________________________________________________________________\\nadd_6 (Add)                     (None, 1000)         0           permanent_dropout_18[0][0]       \\n                                                                 add_5[0][0]                      \\n__________________________________________________________________________________________________\\ndense_20 (Dense)                (None, 1)            1001        add_6[0][0]                      \\n==================================================================================================\\nTotal params: 13,772,001\\nTrainable params: 13,772,001\\nNon-trainable params: 0\\n__________________________________________________________________________________________________\\n',\n",
       "  'model_type': 'Deep NN',\n",
       "  'options': {'custom_objects': {'PermanentDropout': 'dropout_layer.PermanentDropout'}},\n",
       "  'shim': 'keras.KerasServable',\n",
       "  'type': 'Keras Model'}}"
      ]
     },
     "execution_count": 3,
     "metadata": {},
     "output_type": "execute_result"
    }
   ],
   "source": [
    "df_serv = dl.search_by_servable(servable_name=\"candle*\")\n",
    "df_serv[0]"
   ]
  },
  {
   "cell_type": "markdown",
   "metadata": {},
   "source": [
    "# Publishing Models\n",
    "\n",
    "To publish a model with DLHub we first gather some metadata about the model itself. Our SDK is designed to assist the user in generating this metadata.\n",
    "\n",
    "This example shows how to use the DLHub SDK to:\n",
    "- Using the SDK to automatically extract metadata from a Keras model.\n",
    "- Describing additional metadata about the model\n",
    "- Publishing the model"
   ]
  },
  {
   "cell_type": "markdown",
   "metadata": {},
   "source": [
    "## Publishing a P1B1 model.\n",
    "\n",
    "I've trained a simple version of the P1B1 model using the code found here:\n",
    "\n",
    "https://github.com/ECP-CANDLE/Benchmarks/tree/master/Pilot1/P1B1\n",
    "\n",
    "The resulting model has been exported as \"p1b1.h5\" and is in the current working directory:"
   ]
  },
  {
   "cell_type": "code",
   "execution_count": 4,
   "metadata": {},
   "outputs": [
    {
     "name": "stdout",
     "output_type": "stream",
     "text": [
      "total 220224\r\n",
      "-rw-r--r--  1 marcus    53M Jul 25 10:09 saved.weights.h5\r\n",
      "-rw-r--r--  1 marcus    53M Jul 25 10:09 saved.model.h5\r\n",
      "-rwxr-xr-x  1 marcus   2.3M Jul 25 10:09 \u001b[31mpilot1.npy\u001b[m\u001b[m\r\n",
      "-rw-r--r--  1 marcus   497B Jul 25 10:09 dropout_layer.py\r\n",
      "-rw-r--r--  1 marcus   836B Jul 25 10:09 README.md\r\n",
      "-rw-r--r--  1 marcus    59K Jul 25 10:09 CANDLE-DLHub-demo.ipynb\r\n"
     ]
    }
   ],
   "source": [
    "!ls -tho"
   ]
  },
  {
   "cell_type": "markdown",
   "metadata": {},
   "source": [
    "The first step to describing the model is to use the SDK to create a model object. In the case of Keras, the model object is able bootstrap the metadata by loading the trained model and automatically extracting metadata regarding its structure."
   ]
  },
  {
   "cell_type": "code",
   "execution_count": 5,
   "metadata": {},
   "outputs": [
    {
     "name": "stderr",
     "output_type": "stream",
     "text": [
      "Using TensorFlow backend.\n"
     ]
    },
    {
     "ename": "OSError",
     "evalue": "Unable to open file (unable to open file: name = 'p1b1.h5', errno = 2, error message = 'No such file or directory', flags = 0, o_flags = 0)",
     "output_type": "error",
     "traceback": [
      "\u001b[0;31m---------------------------------------------------------------------------\u001b[0m",
      "\u001b[0;31mOSError\u001b[0m                                   Traceback (most recent call last)",
      "\u001b[0;32m<ipython-input-5-d61d5f21c414>\u001b[0m in \u001b[0;36m<module>\u001b[0;34m\u001b[0m\n\u001b[1;32m      4\u001b[0m \u001b[0;34m\u001b[0m\u001b[0m\n\u001b[1;32m      5\u001b[0m \u001b[0;31m# Describe the keras model\u001b[0m\u001b[0;34m\u001b[0m\u001b[0;34m\u001b[0m\u001b[0;34m\u001b[0m\u001b[0m\n\u001b[0;32m----> 6\u001b[0;31m \u001b[0mmodel_info\u001b[0m \u001b[0;34m=\u001b[0m \u001b[0mKerasModel\u001b[0m\u001b[0;34m.\u001b[0m\u001b[0mcreate_model\u001b[0m\u001b[0;34m(\u001b[0m\u001b[0;34m'p1b1.h5'\u001b[0m\u001b[0;34m,\u001b[0m \u001b[0mlist\u001b[0m\u001b[0;34m(\u001b[0m\u001b[0mmap\u001b[0m\u001b[0;34m(\u001b[0m\u001b[0mstr\u001b[0m\u001b[0;34m,\u001b[0m \u001b[0mrange\u001b[0m\u001b[0;34m(\u001b[0m\u001b[0;36m10\u001b[0m\u001b[0;34m)\u001b[0m\u001b[0;34m)\u001b[0m\u001b[0;34m)\u001b[0m\u001b[0;34m)\u001b[0m\u001b[0;34m\u001b[0m\u001b[0;34m\u001b[0m\u001b[0m\n\u001b[0m",
      "\u001b[0;32m~/anaconda2/envs/jcesr_ml/lib/python3.7/site-packages/dlhub_sdk/models/servables/keras.py\u001b[0m in \u001b[0;36mcreate_model\u001b[0;34m(cls, model_path, output_names, arch_path, custom_objects)\u001b[0m\n\u001b[1;32m     59\u001b[0m         \u001b[0;31m# Get the model details\u001b[0m\u001b[0;34m\u001b[0m\u001b[0;34m\u001b[0m\u001b[0;34m\u001b[0m\u001b[0m\n\u001b[1;32m     60\u001b[0m         \u001b[0;32mif\u001b[0m \u001b[0march_path\u001b[0m \u001b[0;32mis\u001b[0m \u001b[0;32mNone\u001b[0m\u001b[0;34m:\u001b[0m\u001b[0;34m\u001b[0m\u001b[0;34m\u001b[0m\u001b[0m\n\u001b[0;32m---> 61\u001b[0;31m             \u001b[0mmodel\u001b[0m \u001b[0;34m=\u001b[0m \u001b[0mload_model\u001b[0m\u001b[0;34m(\u001b[0m\u001b[0mmodel_path\u001b[0m\u001b[0;34m,\u001b[0m \u001b[0mcustom_objects\u001b[0m\u001b[0;34m=\u001b[0m\u001b[0mcustom_objects\u001b[0m\u001b[0;34m)\u001b[0m\u001b[0;34m\u001b[0m\u001b[0;34m\u001b[0m\u001b[0m\n\u001b[0m\u001b[1;32m     62\u001b[0m         \u001b[0;32melse\u001b[0m\u001b[0;34m:\u001b[0m\u001b[0;34m\u001b[0m\u001b[0;34m\u001b[0m\u001b[0m\n\u001b[1;32m     63\u001b[0m             \u001b[0;32mif\u001b[0m \u001b[0march_path\u001b[0m\u001b[0;34m.\u001b[0m\u001b[0mendswith\u001b[0m\u001b[0;34m(\u001b[0m\u001b[0;34m'.h5'\u001b[0m\u001b[0;34m)\u001b[0m \u001b[0;32mor\u001b[0m \u001b[0march_path\u001b[0m\u001b[0;34m.\u001b[0m\u001b[0mendswith\u001b[0m\u001b[0;34m(\u001b[0m\u001b[0;34m'.hdf'\u001b[0m\u001b[0;34m)\u001b[0m\u001b[0;31m \u001b[0m\u001b[0;31m\\\u001b[0m\u001b[0;34m\u001b[0m\u001b[0;34m\u001b[0m\u001b[0m\n",
      "\u001b[0;32m~/anaconda2/envs/jcesr_ml/lib/python3.7/site-packages/keras/engine/saving.py\u001b[0m in \u001b[0;36mload_model\u001b[0;34m(filepath, custom_objects, compile)\u001b[0m\n\u001b[1;32m    415\u001b[0m     \u001b[0mmodel\u001b[0m \u001b[0;34m=\u001b[0m \u001b[0;32mNone\u001b[0m\u001b[0;34m\u001b[0m\u001b[0;34m\u001b[0m\u001b[0m\n\u001b[1;32m    416\u001b[0m     \u001b[0mopened_new_file\u001b[0m \u001b[0;34m=\u001b[0m \u001b[0;32mnot\u001b[0m \u001b[0misinstance\u001b[0m\u001b[0;34m(\u001b[0m\u001b[0mfilepath\u001b[0m\u001b[0;34m,\u001b[0m \u001b[0mh5py\u001b[0m\u001b[0;34m.\u001b[0m\u001b[0mGroup\u001b[0m\u001b[0;34m)\u001b[0m\u001b[0;34m\u001b[0m\u001b[0;34m\u001b[0m\u001b[0m\n\u001b[0;32m--> 417\u001b[0;31m     \u001b[0mf\u001b[0m \u001b[0;34m=\u001b[0m \u001b[0mh5dict\u001b[0m\u001b[0;34m(\u001b[0m\u001b[0mfilepath\u001b[0m\u001b[0;34m,\u001b[0m \u001b[0;34m'r'\u001b[0m\u001b[0;34m)\u001b[0m\u001b[0;34m\u001b[0m\u001b[0;34m\u001b[0m\u001b[0m\n\u001b[0m\u001b[1;32m    418\u001b[0m     \u001b[0;32mtry\u001b[0m\u001b[0;34m:\u001b[0m\u001b[0;34m\u001b[0m\u001b[0;34m\u001b[0m\u001b[0m\n\u001b[1;32m    419\u001b[0m         \u001b[0mmodel\u001b[0m \u001b[0;34m=\u001b[0m \u001b[0m_deserialize_model\u001b[0m\u001b[0;34m(\u001b[0m\u001b[0mf\u001b[0m\u001b[0;34m,\u001b[0m \u001b[0mcustom_objects\u001b[0m\u001b[0;34m,\u001b[0m \u001b[0mcompile\u001b[0m\u001b[0;34m)\u001b[0m\u001b[0;34m\u001b[0m\u001b[0;34m\u001b[0m\u001b[0m\n",
      "\u001b[0;32m~/anaconda2/envs/jcesr_ml/lib/python3.7/site-packages/keras/utils/io_utils.py\u001b[0m in \u001b[0;36m__init__\u001b[0;34m(self, path, mode)\u001b[0m\n\u001b[1;32m    184\u001b[0m             \u001b[0mself\u001b[0m\u001b[0;34m.\u001b[0m\u001b[0m_is_file\u001b[0m \u001b[0;34m=\u001b[0m \u001b[0;32mFalse\u001b[0m\u001b[0;34m\u001b[0m\u001b[0;34m\u001b[0m\u001b[0m\n\u001b[1;32m    185\u001b[0m         \u001b[0;32melif\u001b[0m \u001b[0misinstance\u001b[0m\u001b[0;34m(\u001b[0m\u001b[0mpath\u001b[0m\u001b[0;34m,\u001b[0m \u001b[0mstr\u001b[0m\u001b[0;34m)\u001b[0m\u001b[0;34m:\u001b[0m\u001b[0;34m\u001b[0m\u001b[0;34m\u001b[0m\u001b[0m\n\u001b[0;32m--> 186\u001b[0;31m             \u001b[0mself\u001b[0m\u001b[0;34m.\u001b[0m\u001b[0mdata\u001b[0m \u001b[0;34m=\u001b[0m \u001b[0mh5py\u001b[0m\u001b[0;34m.\u001b[0m\u001b[0mFile\u001b[0m\u001b[0;34m(\u001b[0m\u001b[0mpath\u001b[0m\u001b[0;34m,\u001b[0m \u001b[0mmode\u001b[0m\u001b[0;34m=\u001b[0m\u001b[0mmode\u001b[0m\u001b[0;34m)\u001b[0m\u001b[0;34m\u001b[0m\u001b[0;34m\u001b[0m\u001b[0m\n\u001b[0m\u001b[1;32m    187\u001b[0m             \u001b[0mself\u001b[0m\u001b[0;34m.\u001b[0m\u001b[0m_is_file\u001b[0m \u001b[0;34m=\u001b[0m \u001b[0;32mTrue\u001b[0m\u001b[0;34m\u001b[0m\u001b[0;34m\u001b[0m\u001b[0m\n\u001b[1;32m    188\u001b[0m         \u001b[0;32melif\u001b[0m \u001b[0misinstance\u001b[0m\u001b[0;34m(\u001b[0m\u001b[0mpath\u001b[0m\u001b[0;34m,\u001b[0m \u001b[0mdict\u001b[0m\u001b[0;34m)\u001b[0m\u001b[0;34m:\u001b[0m\u001b[0;34m\u001b[0m\u001b[0;34m\u001b[0m\u001b[0m\n",
      "\u001b[0;32m~/anaconda2/envs/jcesr_ml/lib/python3.7/site-packages/h5py/_hl/files.py\u001b[0m in \u001b[0;36m__init__\u001b[0;34m(self, name, mode, driver, libver, userblock_size, swmr, rdcc_nslots, rdcc_nbytes, rdcc_w0, track_order, **kwds)\u001b[0m\n\u001b[1;32m    392\u001b[0m                 fid = make_fid(name, mode, userblock_size,\n\u001b[1;32m    393\u001b[0m                                \u001b[0mfapl\u001b[0m\u001b[0;34m,\u001b[0m \u001b[0mfcpl\u001b[0m\u001b[0;34m=\u001b[0m\u001b[0mmake_fcpl\u001b[0m\u001b[0;34m(\u001b[0m\u001b[0mtrack_order\u001b[0m\u001b[0;34m=\u001b[0m\u001b[0mtrack_order\u001b[0m\u001b[0;34m)\u001b[0m\u001b[0;34m,\u001b[0m\u001b[0;34m\u001b[0m\u001b[0;34m\u001b[0m\u001b[0m\n\u001b[0;32m--> 394\u001b[0;31m                                swmr=swmr)\n\u001b[0m\u001b[1;32m    395\u001b[0m \u001b[0;34m\u001b[0m\u001b[0m\n\u001b[1;32m    396\u001b[0m             \u001b[0;32mif\u001b[0m \u001b[0mswmr_support\u001b[0m\u001b[0;34m:\u001b[0m\u001b[0;34m\u001b[0m\u001b[0;34m\u001b[0m\u001b[0m\n",
      "\u001b[0;32m~/anaconda2/envs/jcesr_ml/lib/python3.7/site-packages/h5py/_hl/files.py\u001b[0m in \u001b[0;36mmake_fid\u001b[0;34m(name, mode, userblock_size, fapl, fcpl, swmr)\u001b[0m\n\u001b[1;32m    168\u001b[0m         \u001b[0;32mif\u001b[0m \u001b[0mswmr\u001b[0m \u001b[0;32mand\u001b[0m \u001b[0mswmr_support\u001b[0m\u001b[0;34m:\u001b[0m\u001b[0;34m\u001b[0m\u001b[0;34m\u001b[0m\u001b[0m\n\u001b[1;32m    169\u001b[0m             \u001b[0mflags\u001b[0m \u001b[0;34m|=\u001b[0m \u001b[0mh5f\u001b[0m\u001b[0;34m.\u001b[0m\u001b[0mACC_SWMR_READ\u001b[0m\u001b[0;34m\u001b[0m\u001b[0;34m\u001b[0m\u001b[0m\n\u001b[0;32m--> 170\u001b[0;31m         \u001b[0mfid\u001b[0m \u001b[0;34m=\u001b[0m \u001b[0mh5f\u001b[0m\u001b[0;34m.\u001b[0m\u001b[0mopen\u001b[0m\u001b[0;34m(\u001b[0m\u001b[0mname\u001b[0m\u001b[0;34m,\u001b[0m \u001b[0mflags\u001b[0m\u001b[0;34m,\u001b[0m \u001b[0mfapl\u001b[0m\u001b[0;34m=\u001b[0m\u001b[0mfapl\u001b[0m\u001b[0;34m)\u001b[0m\u001b[0;34m\u001b[0m\u001b[0;34m\u001b[0m\u001b[0m\n\u001b[0m\u001b[1;32m    171\u001b[0m     \u001b[0;32melif\u001b[0m \u001b[0mmode\u001b[0m \u001b[0;34m==\u001b[0m \u001b[0;34m'r+'\u001b[0m\u001b[0;34m:\u001b[0m\u001b[0;34m\u001b[0m\u001b[0;34m\u001b[0m\u001b[0m\n\u001b[1;32m    172\u001b[0m         \u001b[0mfid\u001b[0m \u001b[0;34m=\u001b[0m \u001b[0mh5f\u001b[0m\u001b[0;34m.\u001b[0m\u001b[0mopen\u001b[0m\u001b[0;34m(\u001b[0m\u001b[0mname\u001b[0m\u001b[0;34m,\u001b[0m \u001b[0mh5f\u001b[0m\u001b[0;34m.\u001b[0m\u001b[0mACC_RDWR\u001b[0m\u001b[0;34m,\u001b[0m \u001b[0mfapl\u001b[0m\u001b[0;34m=\u001b[0m\u001b[0mfapl\u001b[0m\u001b[0;34m)\u001b[0m\u001b[0;34m\u001b[0m\u001b[0;34m\u001b[0m\u001b[0m\n",
      "\u001b[0;32mh5py/_objects.pyx\u001b[0m in \u001b[0;36mh5py._objects.with_phil.wrapper\u001b[0;34m()\u001b[0m\n",
      "\u001b[0;32mh5py/_objects.pyx\u001b[0m in \u001b[0;36mh5py._objects.with_phil.wrapper\u001b[0;34m()\u001b[0m\n",
      "\u001b[0;32mh5py/h5f.pyx\u001b[0m in \u001b[0;36mh5py.h5f.open\u001b[0;34m()\u001b[0m\n",
      "\u001b[0;31mOSError\u001b[0m: Unable to open file (unable to open file: name = 'p1b1.h5', errno = 2, error message = 'No such file or directory', flags = 0, o_flags = 0)"
     ]
    }
   ],
   "source": [
    "from dlhub_sdk.models.servables.keras import KerasModel\n",
    "import pickle as pkl\n",
    "import json\n",
    "\n",
    "# Describe the keras model\n",
    "model_info = KerasModel.create_model('p1b1.h5', list(map(str, range(10))))"
   ]
  },
  {
   "cell_type": "markdown",
   "metadata": {},
   "source": [
    "Now we use the SDK to append other metadata to the model. Below we set the name of the model, dependencies, and describe additional metadata for search purposes."
   ]
  },
  {
   "cell_type": "code",
   "execution_count": null,
   "metadata": {},
   "outputs": [],
   "source": [
    "# Describe the model\n",
    "model_info.set_title(\"CANDLE P1B1 Demo2\")\n",
    "model_info.set_name(\"candle_p1b1_demo2\")\n",
    "model_info.set_domains([\"genomics\",\"cancer research\"])\n",
    "\n",
    "# Add dependencies\n",
    "model_info.add_requirement('keras', 'detect')\n",
    "model_info.add_requirement('numpy', 'detect')\n",
    "\n",
    "# Describe the outputs in more detail\n",
    "model_info['servable']['methods']['run']['output']['description'] = 'Output'\n",
    "model_info['servable']['methods']['run']['input']['description'] = 'Input'\n",
    "\n",
    "# Add provenance information\n",
    "model_info.set_authors([\"Team, CANDLE\"], [\"CANDLE\"])\n",
    "model_info.set_abstract(\"CANDLE pilot 1 benchmark 1 model.\")\n",
    "model_info.add_alternate_identifier(\"https://github.com/ECP-CANDLE/Benchmarks/tree/release_01/Pilot1/P1B1\", \"URL\")"
   ]
  },
  {
   "cell_type": "markdown",
   "metadata": {},
   "source": [
    "Now the metadata is created we can use it to publish the model."
   ]
  },
  {
   "cell_type": "code",
   "execution_count": null,
   "metadata": {},
   "outputs": [],
   "source": [
    "# Print out the result\n",
    "print(json.dumps(model_info.to_dict(), indent=2))"
   ]
  },
  {
   "cell_type": "markdown",
   "metadata": {},
   "source": [
    "Here we use the SDK to directly publish the model using the model object. This process will first take each of the files listed in \"files\" block and create a temporary tar file. The tar file is then transmitted to the DLHub service (via a multipart POST request) and the JSON document is used to guide a publication pipeline. \n",
    "\n",
    "The publication process includes:\n",
    "- Creating a temporary tar of the files specified in the above JSON\n",
    "- Transmit the tar file to the DLHub service using a multipart POST request\n",
    "- Start a server-side flow to:\n",
    "    - Use the specified dependencies to create a docker container of the model\n",
    "    - Push a copy of the container to AWS ECR\n",
    "    - Ingest the metadata into the search index\n",
    "\n",
    "We could also save the above JSON document and use it to publish the model via our CLI or through our GitHub-based repo2docker pipeline."
   ]
  },
  {
   "cell_type": "code",
   "execution_count": null,
   "metadata": {},
   "outputs": [],
   "source": [
    "task_id = dl.publish_servable(model_info)"
   ]
  },
  {
   "cell_type": "code",
   "execution_count": null,
   "metadata": {},
   "outputs": [],
   "source": [
    "task_id"
   ]
  },
  {
   "cell_type": "markdown",
   "metadata": {},
   "source": [
    "# Running models\n",
    "\n",
    "Below shows how to use the DLHub SDK to invoke the P1B1 model published in DLHub.\n",
    "\n",
    "I have taken a subset of the data available on the CANDLE FTP site and placed it in a local file called \"pilot1.npy\"."
   ]
  },
  {
   "cell_type": "code",
   "execution_count": null,
   "metadata": {},
   "outputs": [],
   "source": [
    "test_data = np.load(\"pilot1.npy\")"
   ]
  },
  {
   "cell_type": "code",
   "execution_count": null,
   "metadata": {
    "scrolled": true
   },
   "outputs": [],
   "source": [
    "print(test_data)\n",
    "print(\"There are {0} entries in the dataset. Each entry has {1} values.\".format(len(test_data), len(test_data[0])))"
   ]
  },
  {
   "cell_type": "markdown",
   "metadata": {},
   "source": [
    "Now we need to find the model's name. I have previously published one called: \"candle_p1b1_demo1\""
   ]
  },
  {
   "cell_type": "code",
   "execution_count": null,
   "metadata": {},
   "outputs": [],
   "source": [
    "df_serv = dl.search_by_servable(servable_name=\"candle_p1b1_demo1\")\n",
    "servable_name = df_serv[0]['dlhub']['shorthand_name']\n",
    "servable_name"
   ]
  },
  {
   "cell_type": "code",
   "execution_count": null,
   "metadata": {},
   "outputs": [],
   "source": [
    "p1b1_preds = []\n",
    "for data in test_data.tolist():\n",
    "    pred = dl.run(servable_name, [data], input_type='python')\n",
    "    p1b1_preds.append(np.array(pred))\n",
    "    break"
   ]
  },
  {
   "cell_type": "code",
   "execution_count": null,
   "metadata": {},
   "outputs": [],
   "source": [
    "p1b1_preds"
   ]
  },
  {
   "cell_type": "code",
   "execution_count": null,
   "metadata": {},
   "outputs": [],
   "source": [
    "len(p1b1_preds[0][0])"
   ]
  },
  {
   "cell_type": "markdown",
   "metadata": {},
   "source": [
    "# Publishing and Using Pilot 1: Combo\n",
    "\n",
    "Here is another example that uses the SDK to markup, publish, and use the Combo model. This example is a little different as the trained model is provided as two files: a set of weights and an architecture file.\n",
    "\n",
    "The Combo model also requires a custom dropout layer. We have extended the Keras model loader to support this. However, the metadata describing the model must indicate that the custom layer is necessary and the layer needs to be shipped along with the model itself to create the servable."
   ]
  },
  {
   "cell_type": "code",
   "execution_count": null,
   "metadata": {},
   "outputs": [],
   "source": [
    "from dlhub_sdk.models.servables.keras import KerasModel\n",
    "from dropout_layer import PermanentDropout\n",
    "import pickle as pkl\n",
    "import json\n",
    "# Describe the keras model\n",
    "model_info = KerasModel.create_model('saved.weights.h5', list(map(str, range(10))), \n",
    "                                     arch_path=\"saved.model.h5\", \n",
    "                                     custom_objects={\"PermanentDropout\": PermanentDropout})"
   ]
  },
  {
   "cell_type": "code",
   "execution_count": null,
   "metadata": {},
   "outputs": [],
   "source": [
    "# Describe the model\n",
    "model_info.set_title(\"CANDLE Pilot1 Combo Demo2\")\n",
    "model_info.set_name(\"candle_p1_combo_demo2\")\n",
    "model_info.set_domains([\"genomics\",\"cancer research\"])\n",
    "\n",
    "# Add dependencies\n",
    "model_info.add_requirement('keras', 'detect')\n",
    "model_info.add_requirement('numpy', 'detect')\n",
    "\n",
    "# Add dropout layer file\n",
    "model_info.add_file(\"dropout_layer.py\")\n",
    "\n",
    "# Describe the outputs in more detail\n",
    "model_info['servable']['methods']['run']['output']['description'] = 'Output'\n",
    "model_info['servable']['methods']['run']['input']['description'] = 'Input'\n",
    "\n",
    "# Add provenance information\n",
    "model_info.set_authors([\"Team, CANDLE\"], [\"CANDLE\"])\n",
    "model_info.set_abstract(\"CANDLE pilot 1 combo model.\")\n",
    "model_info.add_alternate_identifier(\"https://github.com/ECP-CANDLE/Benchmarks/tree/master/Pilot1/Combo\", \"URL\")"
   ]
  },
  {
   "cell_type": "code",
   "execution_count": null,
   "metadata": {},
   "outputs": [],
   "source": [
    "print(json.dumps(model_info.to_dict(), indent=2))"
   ]
  },
  {
   "cell_type": "code",
   "execution_count": null,
   "metadata": {},
   "outputs": [],
   "source": [
    "task_id = dl.publish_servable(model_info)"
   ]
  },
  {
   "cell_type": "code",
   "execution_count": null,
   "metadata": {},
   "outputs": [],
   "source": [
    "task_id"
   ]
  },
  {
   "cell_type": "markdown",
   "metadata": {},
   "source": [
    "## Running the Combo model\n",
    "\n",
    "I'm not actually sure what data this thing takes, but the model summary states that there are three inputs:\n",
    "\n",
    "input.cell.expression (InputLay (None, 942)<br>\n",
    "input.drug1.descriptors (InputL (None, 3820)<br>\n",
    "input.drug2.descriptors (InputL (None, 3820)<br>\n",
    "\n",
    "Therefore we can create example input to ensure the model is running correctly."
   ]
  },
  {
   "cell_type": "code",
   "execution_count": null,
   "metadata": {},
   "outputs": [],
   "source": [
    "servable_desc = dl.describe_servable('ryan_globusid', 'candle_p1_combo_demo1')\n",
    "print(servable_desc['servable']['model_summary'])"
   ]
  },
  {
   "cell_type": "markdown",
   "metadata": {},
   "source": [
    "The servable description also contains more succinct description of the inputs"
   ]
  },
  {
   "cell_type": "code",
   "execution_count": null,
   "metadata": {},
   "outputs": [],
   "source": [
    "servable_desc['servable']['methods']['run']['input']"
   ]
  },
  {
   "cell_type": "markdown",
   "metadata": {},
   "source": [
    "The client also provides a shortcut for accessing the input descriptions, as we anticipate that being a common need"
   ]
  },
  {
   "cell_type": "code",
   "execution_count": null,
   "metadata": {},
   "outputs": [],
   "source": [
    "dl.describe_methods('ryan_globusid', 'candle_p1_combo_demo1', 'run')"
   ]
  },
  {
   "cell_type": "markdown",
   "metadata": {},
   "source": [
    "Given this information, we can create inputs in the proper format and use them to run the model"
   ]
  },
  {
   "cell_type": "code",
   "execution_count": null,
   "metadata": {},
   "outputs": [],
   "source": [
    "combo_input = [np.zeros((200, 942)).tolist(), \n",
    "               np.zeros((200, 3820)).tolist(), \n",
    "               np.zeros((200, 3820)).tolist()]"
   ]
  },
  {
   "cell_type": "code",
   "execution_count": null,
   "metadata": {},
   "outputs": [],
   "source": [
    "res = dl.run('ryan_globusid/candle_p1_combo_demo1', combo_input, input_type='json')"
   ]
  },
  {
   "cell_type": "code",
   "execution_count": null,
   "metadata": {},
   "outputs": [],
   "source": [
    "fig, ax = plt.subplots()\n",
    "\n",
    "ax.hist(np.ravel(res), density=True)\n",
    "\n",
    "ax.set_xlabel('Output')\n",
    "ax.set_ylabel('Frequency')"
   ]
  },
  {
   "cell_type": "markdown",
   "metadata": {},
   "source": [
    "The distribution of the outputs has a non-zero variance, as expected given that the \"p1_combo\" model contains a dropout layer that is still active on predictions."
   ]
  },
  {
   "cell_type": "code",
   "execution_count": null,
   "metadata": {},
   "outputs": [],
   "source": []
  },
  {
   "cell_type": "code",
   "execution_count": null,
   "metadata": {},
   "outputs": [],
   "source": []
  },
  {
   "cell_type": "code",
   "execution_count": null,
   "metadata": {},
   "outputs": [],
   "source": [
    "res_test = dl.run('ryan_globusid/noop', [1,2,3], input_type='json')"
   ]
  },
  {
   "cell_type": "code",
   "execution_count": null,
   "metadata": {},
   "outputs": [],
   "source": [
    "res_test"
   ]
  },
  {
   "cell_type": "code",
   "execution_count": null,
   "metadata": {},
   "outputs": [],
   "source": []
  }
 ],
 "metadata": {
  "kernelspec": {
   "display_name": "Python 3",
   "language": "python",
   "name": "python3"
  },
  "language_info": {
   "codemirror_mode": {
    "name": "ipython",
    "version": 3
   },
   "file_extension": ".py",
   "mimetype": "text/x-python",
   "name": "python",
   "nbconvert_exporter": "python",
   "pygments_lexer": "ipython3",
   "version": "3.7.2"
  }
 },
 "nbformat": 4,
 "nbformat_minor": 2
}
