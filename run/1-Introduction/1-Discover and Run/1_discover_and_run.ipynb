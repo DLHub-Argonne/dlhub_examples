{
 "cells": [
  {
   "cell_type": "markdown",
   "metadata": {},
   "source": [
    "# DLHub: A Data and Learning Hub for Science\n",
    "\n",
    "DLHub is a self-service platform for publishing, applying, and creating machine learning (ML) models, including deep learning (DL) models, and associated data transformations. It is:\n",
    "\n",
    "1. A **model serving infrastructure**: Users can easily run or test models (and also other related services, such as data transformations) via simple Web calls.\n",
    "\n",
    "2. A **model registry**: Model developers can easily publish models, along with associated descriptive metadata and training data, so that they can then be discovered, cited, and reused by others.\n",
    "\n",
    "3. A **model development system**: Developers of new models can easily access the data and computing infrastructure needed to re-train models for new applications.\n",
    "\n",
    "DLHub benefits users in many ways. Data scientists can publish models (i.e., architectures and weights) and methods. Other scientists can apply existing models to new data with ease (e.g., by querying a prediction API for a deployed model). They can easily create new models with state-of-the-art techniques. Together, these capabilities lower barriers to employing ML/DL, making it easier for researchers to benefit from advances in ML/DL technologies.\n",
    "\n",
    "\n",
    "# In this notebook\n",
    "The basics usage of the DLHubCLient is covered. This includes:\n",
    "* Instantiation and authentication\n",
    "* Listing available servables\n",
    "* Running a servable on a set of data"
   ]
  },
  {
   "cell_type": "code",
   "execution_count": 2,
   "metadata": {},
   "outputs": [],
   "source": [
    "from dlhub_sdk.client import DLHubClient\n",
    "from sklearn.metrics import accuracy_score\n",
    "import pandas as pd\n",
    "import numpy as np\n",
    "\n",
    "import matplotlib.pyplot as plt\n",
    "%matplotlib inline"
   ]
  },
  {
   "cell_type": "markdown",
   "metadata": {},
   "source": [
    "## Instantiate the DLHub Client\n",
    "Documentation: https://dlhub-sdk.readthedocs.io/en/latest/"
   ]
  },
  {
   "cell_type": "code",
   "execution_count": 3,
   "metadata": {},
   "outputs": [],
   "source": [
    "dl = DLHubClient()"
   ]
  },
  {
   "cell_type": "markdown",
   "metadata": {},
   "source": [
    "## Get the servables available to you"
   ]
  },
  {
   "cell_type": "code",
   "execution_count": 4,
   "metadata": {},
   "outputs": [],
   "source": [
    "servables = dl.list_servables()"
   ]
  },
  {
   "cell_type": "code",
   "execution_count": 5,
   "metadata": {},
   "outputs": [
    {
     "name": "stdout",
     "output_type": "stream",
     "text": [
      "There are 107 servables available in DLHub\n",
      "====== 10 Servables ======\n",
      "['akoripelly_gmail/semCNN', 'akoripelly_gmail/SEM_CNN_Model', 'akoripelly_gmail/SEM', 'akoripelly_gmail/neural_network', 'akoripelly_gmail/FileLength', 'akoripelly_gmail/CNNModel', 'akoripelly_gmail/braincountTF', 'akoripelly_gmail/brainCNN', 'blaiszik_globusid/mnist_tiny_example', 'blaiszik_globusid/iris_svm']\n"
     ]
    }
   ],
   "source": [
    "print(\"There are {} servables available in DLHub\".format(len(servables)))\n",
    "print(\"====== 10 Servables ======\")\n",
    "print(\"{}\".format(servables[0:10]))"
   ]
  },
  {
   "cell_type": "markdown",
   "metadata": {},
   "source": [
    "## Load MNIST test and train data"
   ]
  },
  {
   "cell_type": "code",
   "execution_count": 7,
   "metadata": {},
   "outputs": [],
   "source": [
    "from keras.datasets import mnist\n",
    "(x_train, y_train), (x_test, y_test) = mnist.load_data()"
   ]
  },
  {
   "cell_type": "code",
   "execution_count": 8,
   "metadata": {},
   "outputs": [
    {
     "data": {
      "image/png": "[encoded data removed]",
      "text/plain": [
       "<Figure size 1440x216 with 10 Axes>"
      ]
     },
     "metadata": {
      "needs_background": "light"
     },
     "output_type": "display_data"
    }
   ],
   "source": [
    "n_samples = 10\n",
    "offset = 2\n",
    "\n",
    "fig, axs = plt.subplots(1,n_samples,\n",
    "                        figsize=(20,3))\n",
    "for i in range(0,n_samples):\n",
    "    axs[i].imshow(x_test[i+offset])"
   ]
  },
  {
   "cell_type": "markdown",
   "metadata": {},
   "source": [
    "## Make Predictions\n",
    "A pretrained model, here called \"mnist_tiny_example\", is used to make predictions on a selection of the test set."
   ]
  },
  {
   "cell_type": "markdown",
   "metadata": {},
   "source": [
    "## Describe the servable"
   ]
  },
  {
   "cell_type": "code",
   "execution_count": 12,
   "metadata": {},
   "outputs": [
    {
     "data": {
      "text/plain": [
       "{'datacite': {'alternateIdentifiers': [],\n",
       "  'creators': [],\n",
       "  'descriptions': [],\n",
       "  'fundingReferences': [],\n",
       "  'identifier': {'identifier': '10.YET/UNASSIGNED', 'identifierType': 'DOI'},\n",
       "  'publicationYear': '2020',\n",
       "  'publisher': 'DLHub',\n",
       "  'relatedIdentifiers': [{'relatedIdentifier': 'globus:rzzIv3AtFZeR',\n",
       "    'relatedIdentifierType': 'Globus',\n",
       "    'relationType': 'IsDescribedBy'}],\n",
       "  'resourceType': {'resourceTypeGeneral': 'InteractiveResource'},\n",
       "  'rightsList': [],\n",
       "  'titles': [{'title': 'MNIST Digit Classifier'}]},\n",
       " 'dlhub': {'build_location': '/mnt/dlhub_ingest/f875fb1d-e810-48c7-ae2c-3f74d8a71955-1591365978',\n",
       "  'dependencies': {'python': {'h5py': '2.9.0',\n",
       "    'keras': '2.2.4',\n",
       "    'tensorflow': '1.14.0'}},\n",
       "  'domains': ['general', 'digit recognition'],\n",
       "  'ecr_arn': 'arn:aws:ecr:us-east-1:039706667969:repository/f875fb1d-e810-48c7-ae2c-3f74d8a71955',\n",
       "  'ecr_uri': '039706667969.dkr.ecr.us-east-1.amazonaws.com/f875fb1d-e810-48c7-ae2c-3f74d8a71955',\n",
       "  'files': {'model': 'model.hd5'},\n",
       "  'funcx_id': '1884a204-5b25-469e-8381-c5b326018015',\n",
       "  'id': 'f875fb1d-e810-48c7-ae2c-3f74d8a71955',\n",
       "  'identifier': 'globus:rzzIv3AtFZeR',\n",
       "  'name': 'mnist_tiny_example',\n",
       "  'owner': 'ryan_globusid',\n",
       "  'publication_date': '1591365978180',\n",
       "  'shorthand_name': 'ryan_globusid/mnist_tiny_example',\n",
       "  'test': False,\n",
       "  'transfer_method': {'POST': 'file', 'path': '/mnt/tmp/servable.zip'},\n",
       "  'type': 'servable',\n",
       "  'user_id': '1',\n",
       "  'version': '0.8.4',\n",
       "  'visible_to': ['public']},\n",
       " 'servable': {'methods': {'run': {'input': {'description': 'Image of a digit',\n",
       "     'shape': ['None', '28', '28', '1'],\n",
       "     'type': 'ndarray'},\n",
       "    'method_details': {'classes': ['0',\n",
       "      '1',\n",
       "      '2',\n",
       "      '3',\n",
       "      '4',\n",
       "      '5',\n",
       "      '6',\n",
       "      '7',\n",
       "      '8',\n",
       "      '9'],\n",
       "     'method_name': 'predict'},\n",
       "    'output': {'description': 'Probabilities of being 0-9',\n",
       "     'shape': ['None', '10'],\n",
       "     'type': 'ndarray'},\n",
       "    'parameters': {}}},\n",
       "  'model_summary': '_________________________________________________________________\\nLayer (type)                 Output Shape              Param #   \\n=================================================================\\nconv2d_1 (Conv2D)            (None, 26, 26, 32)        320       \\n_________________________________________________________________\\nconv2d_2 (Conv2D)            (None, 24, 24, 64)        18496     \\n_________________________________________________________________\\nmax_pooling2d_1 (MaxPooling2 (None, 12, 12, 64)        0         \\n_________________________________________________________________\\ndropout_1 (Dropout)          (None, 12, 12, 64)        0         \\n_________________________________________________________________\\nflatten_1 (Flatten)          (None, 9216)              0         \\n_________________________________________________________________\\ndense_1 (Dense)              (None, 128)               1179776   \\n_________________________________________________________________\\ndropout_2 (Dropout)          (None, 128)               0         \\n_________________________________________________________________\\ndense_2 (Dense)              (None, 10)                1290      \\n=================================================================\\nTotal params: 1,199,882\\nTrainable params: 1,199,882\\nNon-trainable params: 0\\n_________________________________________________________________\\n',\n",
       "  'model_type': 'Deep NN',\n",
       "  'shim': 'keras.KerasServable',\n",
       "  'type': 'Keras Model'}}"
      ]
     },
     "execution_count": 12,
     "metadata": {},
     "output_type": "execute_result"
    }
   ],
   "source": [
    "serv = \"ryan_globusid/mnist_tiny_example\"\n",
    "desc = dl.describe_servable(serv)\n",
    "desc"
   ]
  },
  {
   "cell_type": "markdown",
   "metadata": {},
   "source": [
    "Here, you can see the expected input shape for the \"run\" method is n x 28 x 28 x 1 \n",
    "and the output are digit probabilities [0,9] of shape n x 10"
   ]
  },
  {
   "cell_type": "code",
   "execution_count": 13,
   "metadata": {},
   "outputs": [
    {
     "data": {
      "text/plain": [
       "{'run': {'input': {'description': 'Image of a digit',\n",
       "   'shape': ['None', '28', '28', '1'],\n",
       "   'type': 'ndarray'},\n",
       "  'method_details': {'classes': ['0',\n",
       "    '1',\n",
       "    '2',\n",
       "    '3',\n",
       "    '4',\n",
       "    '5',\n",
       "    '6',\n",
       "    '7',\n",
       "    '8',\n",
       "    '9'],\n",
       "   'method_name': 'predict'},\n",
       "  'output': {'description': 'Probabilities of being 0-9',\n",
       "   'shape': ['None', '10'],\n",
       "   'type': 'ndarray'},\n",
       "  'parameters': {}}}"
      ]
     },
     "execution_count": 13,
     "metadata": {},
     "output_type": "execute_result"
    }
   ],
   "source": [
    "desc['servable']['methods']"
   ]
  },
  {
   "cell_type": "markdown",
   "metadata": {},
   "source": [
    "### Load Test Data\n",
    "The model output represents the probability of a given digit"
   ]
  },
  {
   "cell_type": "code",
   "execution_count": 14,
   "metadata": {},
   "outputs": [],
   "source": [
    "x_test = x_test.copy().reshape(10000,28,28,1)\n",
    "start_index = offset\n",
    "end_index = offset+n_samples\n",
    "\n",
    "out = dl.run(serv,\n",
    "             inputs=x_test[start_index:end_index].tolist())"
   ]
  },
  {
   "cell_type": "markdown",
   "metadata": {},
   "source": [
    "### Check the Model Output Against Actual Values   "
   ]
  },
  {
   "cell_type": "code",
   "execution_count": 15,
   "metadata": {},
   "outputs": [
    {
     "data": {
      "text/html": [
       "<div>\n",
       "<style scoped>\n",
       "    .dataframe tbody tr th:only-of-type {\n",
       "        vertical-align: middle;\n",
       "    }\n",
       "\n",
       "    .dataframe tbody tr th {\n",
       "        vertical-align: top;\n",
       "    }\n",
       "\n",
       "    .dataframe thead th {\n",
       "        text-align: right;\n",
       "    }\n",
       "</style>\n",
       "<table border=\"1\" class=\"dataframe\">\n",
       "  <thead>\n",
       "    <tr style=\"text-align: right;\">\n",
       "      <th></th>\n",
       "      <th>actual</th>\n",
       "      <th>predicted</th>\n",
       "    </tr>\n",
       "  </thead>\n",
       "  <tbody>\n",
       "    <tr>\n",
       "      <th>0</th>\n",
       "      <td>1</td>\n",
       "      <td>1</td>\n",
       "    </tr>\n",
       "    <tr>\n",
       "      <th>1</th>\n",
       "      <td>0</td>\n",
       "      <td>0</td>\n",
       "    </tr>\n",
       "    <tr>\n",
       "      <th>2</th>\n",
       "      <td>4</td>\n",
       "      <td>4</td>\n",
       "    </tr>\n",
       "    <tr>\n",
       "      <th>3</th>\n",
       "      <td>1</td>\n",
       "      <td>1</td>\n",
       "    </tr>\n",
       "    <tr>\n",
       "      <th>4</th>\n",
       "      <td>4</td>\n",
       "      <td>4</td>\n",
       "    </tr>\n",
       "    <tr>\n",
       "      <th>5</th>\n",
       "      <td>9</td>\n",
       "      <td>9</td>\n",
       "    </tr>\n",
       "    <tr>\n",
       "      <th>6</th>\n",
       "      <td>5</td>\n",
       "      <td>4</td>\n",
       "    </tr>\n",
       "    <tr>\n",
       "      <th>7</th>\n",
       "      <td>9</td>\n",
       "      <td>9</td>\n",
       "    </tr>\n",
       "    <tr>\n",
       "      <th>8</th>\n",
       "      <td>0</td>\n",
       "      <td>0</td>\n",
       "    </tr>\n",
       "    <tr>\n",
       "      <th>9</th>\n",
       "      <td>6</td>\n",
       "      <td>6</td>\n",
       "    </tr>\n",
       "  </tbody>\n",
       "</table>\n",
       "</div>"
      ],
      "text/plain": [
       "   actual  predicted\n",
       "0       1          1\n",
       "1       0          0\n",
       "2       4          4\n",
       "3       1          1\n",
       "4       4          4\n",
       "5       9          9\n",
       "6       5          4\n",
       "7       9          9\n",
       "8       0          0\n",
       "9       6          6"
      ]
     },
     "execution_count": 15,
     "metadata": {},
     "output_type": "execute_result"
    }
   ],
   "source": [
    "# Select the highest probability as the prediction\n",
    "preds = np.argmax(out, axis=1)\n",
    "\n",
    "# Create a dataframe of the actual and predicted values\n",
    "df = pd.DataFrame({\"actual\":y_test[start_index:end_index], \"predicted\":preds})\n",
    "df"
   ]
  },
  {
   "cell_type": "markdown",
   "metadata": {},
   "source": [
    "### Check the Accuracy (classification score)"
   ]
  },
  {
   "cell_type": "code",
   "execution_count": 16,
   "metadata": {},
   "outputs": [
    {
     "data": {
      "text/plain": [
       "0.9"
      ]
     },
     "execution_count": 16,
     "metadata": {},
     "output_type": "execute_result"
    }
   ],
   "source": [
    "accuracy_score(df.actual, df.predicted)"
   ]
  },
  {
   "cell_type": "code",
   "execution_count": null,
   "metadata": {},
   "outputs": [],
   "source": []
  }
 ],
 "metadata": {
  "kernelspec": {
   "display_name": "Python 3",
   "language": "python",
   "name": "python3"
  },
  "language_info": {
   "codemirror_mode": {
    "name": "ipython",
    "version": 3
   },
   "file_extension": ".py",
   "mimetype": "text/x-python",
   "name": "python",
   "nbconvert_exporter": "python",
   "pygments_lexer": "ipython3",
   "version": "3.8.2"
  }
 },
 "nbformat": 4,
 "nbformat_minor": 4
}
