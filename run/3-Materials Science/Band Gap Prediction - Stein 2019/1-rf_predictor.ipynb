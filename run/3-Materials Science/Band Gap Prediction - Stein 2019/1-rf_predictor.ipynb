{
 "cells": [
  {
   "cell_type": "markdown",
   "metadata": {},
   "source": [
    "# Band Gap Predictor Using Random Forest"
   ]
  },
  {
   "cell_type": "code",
   "execution_count": 1,
   "metadata": {},
   "outputs": [],
   "source": [
    "import pandas as pd\n",
    "import numpy as np\n",
    "import matplotlib.pyplot as plt\n",
    "from dlhub_sdk.client import DLHubClient\n",
    "from sklearn.metrics import mean_absolute_error, mean_squared_error\n",
    "\n",
    "%matplotlib inline"
   ]
  },
  {
   "cell_type": "code",
   "execution_count": 2,
   "metadata": {},
   "outputs": [],
   "source": [
    "shuffled = pd.read_csv('full_shuffled_dataset.csv',index_col=0)\n",
    "\n",
    "x_test = shuffled.values[int(0.80*len(shuffled)):,:-1]\n",
    "y_test = shuffled.values[int(0.80*len(shuffled)):,-1]\n"
   ]
  },
  {
   "cell_type": "code",
   "execution_count": 3,
   "metadata": {},
   "outputs": [
    {
     "ename": "AttributeError",
     "evalue": "type object 'DLHubClient' has no attribute 'login'",
     "output_type": "error",
     "traceback": [
      "\u001b[0;31m---------------------------------------------------------------------------\u001b[0m",
      "\u001b[0;31mAttributeError\u001b[0m                            Traceback (most recent call last)",
      "\u001b[0;32m<ipython-input-3-904187d7d551>\u001b[0m in \u001b[0;36m<module>\u001b[0;34m\u001b[0m\n\u001b[0;32m----> 1\u001b[0;31m \u001b[0mDL\u001b[0m \u001b[0;34m=\u001b[0m \u001b[0mDLHubClient\u001b[0m\u001b[0;34m.\u001b[0m\u001b[0mlogin\u001b[0m\u001b[0;34m(\u001b[0m\u001b[0;34m)\u001b[0m\u001b[0;34m\u001b[0m\u001b[0;34m\u001b[0m\u001b[0m\n\u001b[0m\u001b[1;32m      2\u001b[0m \u001b[0mrforest_name\u001b[0m \u001b[0;34m=\u001b[0m \u001b[0;34m'GREGOIRE_TEST_1_17_2019'\u001b[0m\u001b[0;34m\u001b[0m\u001b[0;34m\u001b[0m\u001b[0m\n\u001b[1;32m      3\u001b[0m \u001b[0mauthor\u001b[0m \u001b[0;34m=\u001b[0m \u001b[0;34m'mschwarting_anl/'\u001b[0m\u001b[0;34m\u001b[0m\u001b[0;34m\u001b[0m\u001b[0m\n\u001b[1;32m      4\u001b[0m \u001b[0my_out\u001b[0m \u001b[0;34m=\u001b[0m \u001b[0mDL\u001b[0m\u001b[0;34m.\u001b[0m\u001b[0mrun\u001b[0m\u001b[0;34m(\u001b[0m\u001b[0mname\u001b[0m \u001b[0;34m=\u001b[0m \u001b[0mauthor\u001b[0m\u001b[0;34m+\u001b[0m\u001b[0mrforest_name\u001b[0m\u001b[0;34m,\u001b[0m \u001b[0minputs\u001b[0m\u001b[0;34m=\u001b[0m\u001b[0mx_test\u001b[0m\u001b[0;34m.\u001b[0m\u001b[0mtolist\u001b[0m\u001b[0;34m(\u001b[0m\u001b[0;34m)\u001b[0m\u001b[0;34m)\u001b[0m\u001b[0;34m[\u001b[0m\u001b[0;36m0\u001b[0m\u001b[0;34m]\u001b[0m\u001b[0;34m\u001b[0m\u001b[0;34m\u001b[0m\u001b[0m\n",
      "\u001b[0;31mAttributeError\u001b[0m: type object 'DLHubClient' has no attribute 'login'"
     ]
    }
   ],
   "source": [
    "DL = DLHubClient.login()\n",
    "rforest_name = 'GREGOIRE_TEST_1_17_2019'\n",
    "author = 'mschwarting_anl/'\n",
    "y_out = DL.run(name = author+rforest_name, inputs=x_test.tolist())[0]\n"
   ]
  },
  {
   "cell_type": "code",
   "execution_count": null,
   "metadata": {},
   "outputs": [],
   "source": [
    "plot_colors = np.array([i for i in zip(shuffled['R_channel avg'].tolist()[int(0.80*len(shuffled)):],\\\n",
    "                           shuffled['G_channel avg'].tolist()[int(0.80*len(shuffled)):],\\\n",
    "                           shuffled['B_channel avg'].tolist()[int(0.80*len(shuffled)):])])/255.\n",
    "\n",
    "plt.figure(figsize=(12,12))\n",
    "plt.scatter(y_test,y_out,s=5,alpha=1,color=plot_colors)\n",
    "plt.xlabel('Spectrum-Derived Band Gap',fontsize=14)\n",
    "plt.ylabel('Random Forest Derived Band Gap',fontsize=14)\n",
    "plt.title('Band Gaps Scatter Plot',fontsize=18)\n",
    "plt.plot([0,3],[0,3],color='black')\n",
    "plt.show()\n"
   ]
  },
  {
   "cell_type": "code",
   "execution_count": null,
   "metadata": {},
   "outputs": [],
   "source": [
    "plt.figure(figsize=(6,6))\n",
    "plt.scatter(y_test,y_out,s=3,alpha=0.1,color='red')\n",
    "plt.xlabel('Spectrum-Derived Band Gap')\n",
    "plt.ylabel('Random Forest Derived Band Gap')\n",
    "plt.title('Band Gaps Scatter Plot')\n",
    "plt.plot([0,3],[0,3],color='black')\n",
    "plt.show()\n",
    "error = np.array(y_test)-np.array(y_out)\n",
    "plt.figure()\n",
    "plt.xlabel('Frequency (counts)')\n",
    "plt.ylabel('Spectrum BG - Random Forest BG (eV)')\n",
    "plt.title('Histogram of Band Gap Error')\n",
    "plt.hist(error,50)\n",
    "plt.show()\n",
    "print('Mean Error: '+str(round(np.average(error)*1000,2))+' meV')\n",
    "print('Standard Deviation: '+str(round(np.std(error)*1000,2))+' meV')\n",
    "#sns.distplot(error)\n",
    "print('MAE: '+str(round(mean_absolute_error(y_test, y_out)*1000,2))+' meV')\n",
    "print('MSE: '+str(round(mean_squared_error(y_test, y_out)*1000,2))+' meV')\n",
    "print('RMSE: '+str(round((mean_squared_error(y_test, y_out)**0.5)*1000,2))+' meV')\n"
   ]
  },
  {
   "cell_type": "code",
   "execution_count": null,
   "metadata": {},
   "outputs": [],
   "source": []
  }
 ],
 "metadata": {
  "kernelspec": {
   "display_name": "Python 3",
   "language": "python",
   "name": "python3"
  },
  "language_info": {
   "codemirror_mode": {
    "name": "ipython",
    "version": 3
   },
   "file_extension": ".py",
   "mimetype": "text/x-python",
   "name": "python",
   "nbconvert_exporter": "python",
   "pygments_lexer": "ipython3",
   "version": "3.6.7"
  }
 },
 "nbformat": 4,
 "nbformat_minor": 2
}
